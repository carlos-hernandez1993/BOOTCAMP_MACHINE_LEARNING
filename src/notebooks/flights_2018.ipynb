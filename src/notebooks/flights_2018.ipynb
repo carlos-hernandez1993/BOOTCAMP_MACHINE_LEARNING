{
 "cells": [
  {
   "cell_type": "code",
   "execution_count": 69,
   "metadata": {},
   "outputs": [],
   "source": [
    "import os\n",
    "import sys"
   ]
  },
  {
   "cell_type": "code",
   "execution_count": 70,
   "metadata": {},
   "outputs": [
    {
     "data": {
      "text/plain": [
       "['c:\\\\Users\\\\carlo\\\\OneDrive\\\\Escritorio\\\\carlos-curso-thebridge\\\\carpeta_alumno\\\\DATA SCIENCE CURSO\\\\MACHINE LEARNING\\\\Proyecto_ML\\\\src\\\\notebooks',\n",
       " 'c:\\\\Users\\\\carlo\\\\.vscode\\\\extensions\\\\ms-toolsai.jupyter-2021.10.1101450599\\\\pythonFiles',\n",
       " 'c:\\\\Users\\\\carlo\\\\.vscode\\\\extensions\\\\ms-toolsai.jupyter-2021.10.1101450599\\\\pythonFiles\\\\lib\\\\python',\n",
       " 'C:\\\\Users\\\\carlo\\\\AppData\\\\Local\\\\Programs\\\\Python\\\\Python37\\\\python37.zip',\n",
       " 'C:\\\\Users\\\\carlo\\\\AppData\\\\Local\\\\Programs\\\\Python\\\\Python37\\\\DLLs',\n",
       " 'C:\\\\Users\\\\carlo\\\\AppData\\\\Local\\\\Programs\\\\Python\\\\Python37\\\\lib',\n",
       " 'C:\\\\Users\\\\carlo\\\\AppData\\\\Local\\\\Programs\\\\Python\\\\Python37',\n",
       " '',\n",
       " 'C:\\\\Users\\\\carlo\\\\AppData\\\\Roaming\\\\Python\\\\Python37\\\\site-packages',\n",
       " 'C:\\\\Users\\\\carlo\\\\AppData\\\\Local\\\\Programs\\\\Python\\\\Python37\\\\lib\\\\site-packages',\n",
       " 'C:\\\\Users\\\\carlo\\\\AppData\\\\Local\\\\Programs\\\\Python\\\\Python37\\\\lib\\\\site-packages\\\\win32',\n",
       " 'C:\\\\Users\\\\carlo\\\\AppData\\\\Local\\\\Programs\\\\Python\\\\Python37\\\\lib\\\\site-packages\\\\win32\\\\lib',\n",
       " 'C:\\\\Users\\\\carlo\\\\AppData\\\\Local\\\\Programs\\\\Python\\\\Python37\\\\lib\\\\site-packages\\\\Pythonwin',\n",
       " 'C:\\\\Users\\\\carlo\\\\AppData\\\\Local\\\\Programs\\\\Python\\\\Python37\\\\lib\\\\site-packages\\\\IPython\\\\extensions',\n",
       " 'C:\\\\Users\\\\carlo\\\\.ipython',\n",
       " 'c:\\\\Users\\\\carlo\\\\OneDrive\\\\Escritorio\\\\carlos-curso-thebridge\\\\carpeta_alumno\\\\DATA SCIENCE CURSO\\\\MACHINE LEARNING\\\\Proyecto_ML\\\\src',\n",
       " 'c:\\\\Users\\\\carlo\\\\OneDrive\\\\Escritorio\\\\carlos-curso-thebridge\\\\carpeta_alumno\\\\DATA SCIENCE CURSO\\\\MACHINE LEARNING\\\\Proyecto_ML\\\\src']"
      ]
     },
     "execution_count": 70,
     "metadata": {},
     "output_type": "execute_result"
    }
   ],
   "source": [
    "os.getcwd()\n",
    "root_path=os.path.dirname(os.getcwd())\n",
    "root_path\n",
    "sys.path.append(root_path)\n",
    "sys.path"
   ]
  },
  {
   "cell_type": "code",
   "execution_count": 71,
   "metadata": {},
   "outputs": [],
   "source": [
    "import pandas as pd\n",
    "import numpy as np\n",
    "import seaborn as sns\n",
    "import matplotlib.pyplot as plt\n",
    "from utils.functions import replace_string"
   ]
  },
  {
   "cell_type": "markdown",
   "metadata": {},
   "source": [
    "#### Cargar csv"
   ]
  },
  {
   "cell_type": "code",
   "execution_count": 72,
   "metadata": {},
   "outputs": [],
   "source": [
    "df1=pd.read_csv(\"..\\\\data\\\\raw\\\\dft-flights-data-2011-1.csv\",encoding=\"unicode_escape\")"
   ]
  },
  {
   "cell_type": "markdown",
   "metadata": {},
   "source": [
    "#### Inspección del dataframe"
   ]
  },
  {
   "cell_type": "code",
   "execution_count": 73,
   "metadata": {},
   "outputs": [
    {
     "name": "stdout",
     "output_type": "stream",
     "text": [
      "<class 'pandas.core.frame.DataFrame'>\n",
      "RangeIndex: 2955 entries, 0 to 2954\n",
      "Data columns (total 9 columns):\n",
      " #   Column                   Non-Null Count  Dtype \n",
      "---  ------                   --------------  ----- \n",
      " 0   Customer                 2955 non-null   object\n",
      " 1   Number of Travellers     2955 non-null   int64 \n",
      " 2    Total Cost ex VAT       2955 non-null   object\n",
      " 3   Travel Class             2955 non-null   object\n",
      " 4   Ticket Single or Return  2955 non-null   object\n",
      " 5   Travel Date              2955 non-null   object\n",
      " 6   Journey Start Point      2955 non-null   object\n",
      " 7   Journey Finish Point     2954 non-null   object\n",
      " 8   Air Carrier              2955 non-null   object\n",
      "dtypes: int64(1), object(8)\n",
      "memory usage: 207.9+ KB\n"
     ]
    }
   ],
   "source": [
    "df1.info()"
   ]
  },
  {
   "cell_type": "code",
   "execution_count": 74,
   "metadata": {},
   "outputs": [
    {
     "data": {
      "text/html": [
       "<div>\n",
       "<style scoped>\n",
       "    .dataframe tbody tr th:only-of-type {\n",
       "        vertical-align: middle;\n",
       "    }\n",
       "\n",
       "    .dataframe tbody tr th {\n",
       "        vertical-align: top;\n",
       "    }\n",
       "\n",
       "    .dataframe thead th {\n",
       "        text-align: right;\n",
       "    }\n",
       "</style>\n",
       "<table border=\"1\" class=\"dataframe\">\n",
       "  <thead>\n",
       "    <tr style=\"text-align: right;\">\n",
       "      <th></th>\n",
       "      <th>Number of Travellers</th>\n",
       "    </tr>\n",
       "    <tr>\n",
       "      <th>Journey Start Point</th>\n",
       "      <th></th>\n",
       "    </tr>\n",
       "  </thead>\n",
       "  <tbody>\n",
       "    <tr>\n",
       "      <th>AARHUS</th>\n",
       "      <td>3</td>\n",
       "    </tr>\n",
       "    <tr>\n",
       "      <th>ABERDEEN</th>\n",
       "      <td>143</td>\n",
       "    </tr>\n",
       "    <tr>\n",
       "      <th>ALDERNEY</th>\n",
       "      <td>2</td>\n",
       "    </tr>\n",
       "    <tr>\n",
       "      <th>ALICANTE</th>\n",
       "      <td>1</td>\n",
       "    </tr>\n",
       "    <tr>\n",
       "      <th>AMSTERDAM</th>\n",
       "      <td>7</td>\n",
       "    </tr>\n",
       "    <tr>\n",
       "      <th>...</th>\n",
       "      <td>...</td>\n",
       "    </tr>\n",
       "    <tr>\n",
       "      <th>VIGO</th>\n",
       "      <td>3</td>\n",
       "    </tr>\n",
       "    <tr>\n",
       "      <th>VILNIUS</th>\n",
       "      <td>1</td>\n",
       "    </tr>\n",
       "    <tr>\n",
       "      <th>WARSAW</th>\n",
       "      <td>1</td>\n",
       "    </tr>\n",
       "    <tr>\n",
       "      <th>WASHINGTON</th>\n",
       "      <td>1</td>\n",
       "    </tr>\n",
       "    <tr>\n",
       "      <th>WASHINGTON - NATIONAL</th>\n",
       "      <td>1</td>\n",
       "    </tr>\n",
       "  </tbody>\n",
       "</table>\n",
       "<p>114 rows × 1 columns</p>\n",
       "</div>"
      ],
      "text/plain": [
       "                       Number of Travellers\n",
       "Journey Start Point                        \n",
       "AARHUS                                    3\n",
       "ABERDEEN                                143\n",
       "ALDERNEY                                  2\n",
       "ALICANTE                                  1\n",
       "AMSTERDAM                                 7\n",
       "...                                     ...\n",
       "VIGO                                      3\n",
       "VILNIUS                                   1\n",
       "WARSAW                                    1\n",
       "WASHINGTON                                1\n",
       "WASHINGTON - NATIONAL                     1\n",
       "\n",
       "[114 rows x 1 columns]"
      ]
     },
     "execution_count": 74,
     "metadata": {},
     "output_type": "execute_result"
    }
   ],
   "source": [
    "df_group=df1.groupby(by=[\"Journey Start Point\"]).sum()\n",
    "df_group"
   ]
  },
  {
   "cell_type": "code",
   "execution_count": 75,
   "metadata": {},
   "outputs": [],
   "source": [
    "lugares_origen=df_group.sort_values(\"Number of Travellers\",ascending=False)\n",
    "lugares_origen.rename(columns = {'Number of Travellers': 'Número de Viajeros'}, inplace=True) "
   ]
  },
  {
   "cell_type": "code",
   "execution_count": 76,
   "metadata": {},
   "outputs": [],
   "source": [
    "lugares_origen=lugares_origen.rename_axis('index').reset_index()\n",
    "lugares_origen.rename(columns = {'index': 'Origen'}, inplace=True)\n",
    "lugares_origen=lugares_origen.head(10)"
   ]
  },
  {
   "cell_type": "code",
   "execution_count": 77,
   "metadata": {},
   "outputs": [
    {
     "data": {
      "image/png": "[encoded data removed]",
      "text/plain": [
       "<Figure size 1000x600 with 1 Axes>"
      ]
     },
     "metadata": {
      "needs_background": "light"
     },
     "output_type": "display_data"
    }
   ],
   "source": [
    "plt.figure(figsize=(10,6), dpi=100)\n",
    "plt.xticks(rotation=45, fontsize=15, ha='right')\n",
    "sns.barplot(x = lugares_origen[\"Origen\"], y = lugares_origen[\"Número de Viajeros\"])\n",
    "plt.xlabel('Ciudades', fontsize=20)\n",
    "plt.ylabel('Número de Viajeros')\n",
    "plt.title(\"Ciudades con mayor cantidad de viajeros\", size=17, color=\"Black\");"
   ]
  },
  {
   "cell_type": "code",
   "execution_count": 78,
   "metadata": {},
   "outputs": [],
   "source": [
    "df_group2=df1.groupby(by=[\"Journey Finish Point\"]).sum()"
   ]
  },
  {
   "cell_type": "code",
   "execution_count": 79,
   "metadata": {},
   "outputs": [
    {
     "data": {
      "text/html": [
       "<div>\n",
       "<style scoped>\n",
       "    .dataframe tbody tr th:only-of-type {\n",
       "        vertical-align: middle;\n",
       "    }\n",
       "\n",
       "    .dataframe tbody tr th {\n",
       "        vertical-align: top;\n",
       "    }\n",
       "\n",
       "    .dataframe thead th {\n",
       "        text-align: right;\n",
       "    }\n",
       "</style>\n",
       "<table border=\"1\" class=\"dataframe\">\n",
       "  <thead>\n",
       "    <tr style=\"text-align: right;\">\n",
       "      <th></th>\n",
       "      <th>Number of Travellers</th>\n",
       "    </tr>\n",
       "    <tr>\n",
       "      <th>Journey Finish Point</th>\n",
       "      <th></th>\n",
       "    </tr>\n",
       "  </thead>\n",
       "  <tbody>\n",
       "    <tr>\n",
       "      <th>AALBORG</th>\n",
       "      <td>1</td>\n",
       "    </tr>\n",
       "    <tr>\n",
       "      <th>ABERDEEN</th>\n",
       "      <td>170</td>\n",
       "    </tr>\n",
       "    <tr>\n",
       "      <th>ADDIS ABABA</th>\n",
       "      <td>4</td>\n",
       "    </tr>\n",
       "    <tr>\n",
       "      <th>ALDERNEY</th>\n",
       "      <td>2</td>\n",
       "    </tr>\n",
       "    <tr>\n",
       "      <th>ALICANTE</th>\n",
       "      <td>1</td>\n",
       "    </tr>\n",
       "    <tr>\n",
       "      <th>...</th>\n",
       "      <td>...</td>\n",
       "    </tr>\n",
       "    <tr>\n",
       "      <th>WARSAW</th>\n",
       "      <td>10</td>\n",
       "    </tr>\n",
       "    <tr>\n",
       "      <th>WASHINGTON</th>\n",
       "      <td>29</td>\n",
       "    </tr>\n",
       "    <tr>\n",
       "      <th>WICK</th>\n",
       "      <td>1</td>\n",
       "    </tr>\n",
       "    <tr>\n",
       "      <th>ZURICH</th>\n",
       "      <td>5</td>\n",
       "    </tr>\n",
       "    <tr>\n",
       "      <th>ZWEISIMMEN</th>\n",
       "      <td>1</td>\n",
       "    </tr>\n",
       "  </tbody>\n",
       "</table>\n",
       "<p>199 rows × 1 columns</p>\n",
       "</div>"
      ],
      "text/plain": [
       "                      Number of Travellers\n",
       "Journey Finish Point                      \n",
       "AALBORG                                  1\n",
       "ABERDEEN                               170\n",
       "ADDIS ABABA                              4\n",
       "ALDERNEY                                 2\n",
       "ALICANTE                                 1\n",
       "...                                    ...\n",
       "WARSAW                                  10\n",
       "WASHINGTON                              29\n",
       "WICK                                     1\n",
       "ZURICH                                   5\n",
       "ZWEISIMMEN                               1\n",
       "\n",
       "[199 rows x 1 columns]"
      ]
     },
     "execution_count": 79,
     "metadata": {},
     "output_type": "execute_result"
    }
   ],
   "source": [
    "df_group2"
   ]
  },
  {
   "cell_type": "code",
   "execution_count": 80,
   "metadata": {},
   "outputs": [],
   "source": [
    "clases=df1.groupby(by=[\"Travel Class\"]).sum()\n",
    "clases=clases.sort_values(\"Number of Travellers\",ascending=False)\n",
    "clases.rename(columns = {'Number of Travellers': 'Número de Viajeros'}, inplace=True) "
   ]
  },
  {
   "cell_type": "code",
   "execution_count": 81,
   "metadata": {},
   "outputs": [],
   "source": [
    "clases=clases.rename_axis('index').reset_index()\n",
    "clases.rename(columns = {'index': 'Clase'}, inplace=True)\n",
    "clases[\"Tipo de Clase\"]=[\"Económica\",\"Business\",\"Premium Económica\",\"Primera\"]\n",
    "clases.drop(\"Clase\",axis=1,inplace=True)"
   ]
  },
  {
   "cell_type": "code",
   "execution_count": 82,
   "metadata": {},
   "outputs": [
    {
     "data": {
      "text/html": [
       "<div>\n",
       "<style scoped>\n",
       "    .dataframe tbody tr th:only-of-type {\n",
       "        vertical-align: middle;\n",
       "    }\n",
       "\n",
       "    .dataframe tbody tr th {\n",
       "        vertical-align: top;\n",
       "    }\n",
       "\n",
       "    .dataframe thead th {\n",
       "        text-align: right;\n",
       "    }\n",
       "</style>\n",
       "<table border=\"1\" class=\"dataframe\">\n",
       "  <thead>\n",
       "    <tr style=\"text-align: right;\">\n",
       "      <th></th>\n",
       "      <th>Número de Viajeros</th>\n",
       "      <th>Tipo de Clase</th>\n",
       "    </tr>\n",
       "  </thead>\n",
       "  <tbody>\n",
       "    <tr>\n",
       "      <th>0</th>\n",
       "      <td>2465</td>\n",
       "      <td>Económica</td>\n",
       "    </tr>\n",
       "    <tr>\n",
       "      <th>1</th>\n",
       "      <td>420</td>\n",
       "      <td>Business</td>\n",
       "    </tr>\n",
       "    <tr>\n",
       "      <th>2</th>\n",
       "      <td>61</td>\n",
       "      <td>Premium Económica</td>\n",
       "    </tr>\n",
       "    <tr>\n",
       "      <th>3</th>\n",
       "      <td>9</td>\n",
       "      <td>Primera</td>\n",
       "    </tr>\n",
       "  </tbody>\n",
       "</table>\n",
       "</div>"
      ],
      "text/plain": [
       "   Número de Viajeros      Tipo de Clase\n",
       "0                2465          Económica\n",
       "1                 420           Business\n",
       "2                  61  Premium Económica\n",
       "3                   9            Primera"
      ]
     },
     "execution_count": 82,
     "metadata": {},
     "output_type": "execute_result"
    }
   ],
   "source": [
    "clases"
   ]
  },
  {
   "cell_type": "code",
   "execution_count": 83,
   "metadata": {},
   "outputs": [
    {
     "data": {
      "image/png": "[encoded data removed]",
      "text/plain": [
       "<Figure size 1000x600 with 1 Axes>"
      ]
     },
     "metadata": {},
     "output_type": "display_data"
    }
   ],
   "source": [
    "plt.figure(figsize=(10,6), dpi=100)\n",
    "plt.pie(clases[\"Número de Viajeros\"], labels=clases[\"Tipo de Clase\"],autopct='%1.2f%%')\n",
    "plt.title(\"Porcentaje de tipo de clases\", size=17, color=\"black\")\n",
    "plt.show()"
   ]
  },
  {
   "cell_type": "markdown",
   "metadata": {},
   "source": [
    "#### Borrar columnas que tienen valor único"
   ]
  },
  {
   "cell_type": "code",
   "execution_count": 6,
   "metadata": {},
   "outputs": [],
   "source": [
    "df1.drop([\"Number of Travellers\",\"Customer\"],axis=1,inplace=True)"
   ]
  },
  {
   "cell_type": "markdown",
   "metadata": {},
   "source": [
    "#### Reemplazar string de la columna Total Cost ex VAT"
   ]
  },
  {
   "cell_type": "code",
   "execution_count": 85,
   "metadata": {},
   "outputs": [
    {
     "data": {
      "text/plain": [
       "\"Ya se han sustituido los siguientes valores [',', '£'] por \""
      ]
     },
     "execution_count": 85,
     "metadata": {},
     "output_type": "execute_result"
    }
   ],
   "source": [
    "replace_string(df = df1, col= \" Total Cost ex VAT \", string_list=[',', '£'], replacement='')"
   ]
  },
  {
   "cell_type": "code",
   "execution_count": 86,
   "metadata": {},
   "outputs": [],
   "source": [
    "df1[\" Total Cost ex VAT \"]=df1[\" Total Cost ex VAT \"].astype(\"float\")"
   ]
  },
  {
   "cell_type": "code",
   "execution_count": 87,
   "metadata": {},
   "outputs": [],
   "source": [
    "df1[['day', 'month', 'year']] = df1['Travel Date'].str.split('/',expand=True)\n",
    "df1['year'] = df1['year'].astype(int)\n",
    "df1['month'] = df1['month'].astype(int)\n",
    "df1['day'] = df1['day'].astype(int)"
   ]
  },
  {
   "cell_type": "code",
   "execution_count": 88,
   "metadata": {},
   "outputs": [],
   "source": [
    "df1.drop(\"Travel Date\", axis=1,inplace=True)"
   ]
  },
  {
   "cell_type": "markdown",
   "metadata": {},
   "source": [
    "#### Transformación de variables categóricas a numéricas"
   ]
  },
  {
   "cell_type": "code",
   "execution_count": 89,
   "metadata": {},
   "outputs": [],
   "source": [
    "df1=df1.replace(\"ECONOMY\",0)\n",
    "df1=df1.replace('PREMIUM ECONOMY',1)\n",
    "df1=df1.replace('BUSINESS',2)\n",
    "df1=df1.replace('FIRST',3)"
   ]
  },
  {
   "cell_type": "markdown",
   "metadata": {},
   "source": [
    "#### Label Encoder"
   ]
  },
  {
   "cell_type": "code",
   "execution_count": 91,
   "metadata": {},
   "outputs": [],
   "source": [
    "from sklearn import preprocessing\n",
    "le_df1=preprocessing.LabelEncoder()\n",
    "le_df1.fit(df1[\"Journey Finish Point\"])\n",
    "df1[\"Journey Finish Point_le\"]=le_df1.transform(df1[\"Journey Finish Point\"])"
   ]
  },
  {
   "cell_type": "code",
   "execution_count": 92,
   "metadata": {},
   "outputs": [],
   "source": [
    "le2_df1=preprocessing.LabelEncoder()\n",
    "le2_df1.fit(df1[\"Journey Start Point\"])\n",
    "df1[\"Journey Start Point_le\"]=le2_df1.transform(df1[\"Journey Start Point\"])"
   ]
  },
  {
   "cell_type": "code",
   "execution_count": 93,
   "metadata": {},
   "outputs": [],
   "source": [
    "le3_df1=preprocessing.LabelEncoder()\n",
    "le3_df1.fit(df1[\"Air Carrier\"])\n",
    "df1[\"Air Carrier_le\"]=le3_df1.transform(df1[\"Air Carrier\"])"
   ]
  },
  {
   "cell_type": "code",
   "execution_count": 94,
   "metadata": {},
   "outputs": [
    {
     "data": {
      "text/html": [
       "<div>\n",
       "<style scoped>\n",
       "    .dataframe tbody tr th:only-of-type {\n",
       "        vertical-align: middle;\n",
       "    }\n",
       "\n",
       "    .dataframe tbody tr th {\n",
       "        vertical-align: top;\n",
       "    }\n",
       "\n",
       "    .dataframe thead th {\n",
       "        text-align: right;\n",
       "    }\n",
       "</style>\n",
       "<table border=\"1\" class=\"dataframe\">\n",
       "  <thead>\n",
       "    <tr style=\"text-align: right;\">\n",
       "      <th></th>\n",
       "      <th>Customer</th>\n",
       "      <th>Number of Travellers</th>\n",
       "      <th>Total Cost ex VAT</th>\n",
       "      <th>Travel Class</th>\n",
       "      <th>Ticket Single or Return</th>\n",
       "      <th>Journey Start Point</th>\n",
       "      <th>Journey Finish Point</th>\n",
       "      <th>Air Carrier</th>\n",
       "      <th>day</th>\n",
       "      <th>month</th>\n",
       "      <th>year</th>\n",
       "      <th>Journey Finish Point_le</th>\n",
       "      <th>Journey Start Point_le</th>\n",
       "      <th>Air Carrier_le</th>\n",
       "    </tr>\n",
       "  </thead>\n",
       "  <tbody>\n",
       "    <tr>\n",
       "      <th>0</th>\n",
       "      <td>Department for Transport</td>\n",
       "      <td>1</td>\n",
       "      <td>81.52</td>\n",
       "      <td>0</td>\n",
       "      <td>Return</td>\n",
       "      <td>GLASGOW</td>\n",
       "      <td>LONDON - LGW</td>\n",
       "      <td>FLYBE</td>\n",
       "      <td>10</td>\n",
       "      <td>2</td>\n",
       "      <td>2011</td>\n",
       "      <td>109</td>\n",
       "      <td>39</td>\n",
       "      <td>32</td>\n",
       "    </tr>\n",
       "    <tr>\n",
       "      <th>1</th>\n",
       "      <td>Department for Transport</td>\n",
       "      <td>1</td>\n",
       "      <td>217.14</td>\n",
       "      <td>0</td>\n",
       "      <td>Return</td>\n",
       "      <td>LONDON - LGW</td>\n",
       "      <td>MARRAKECH</td>\n",
       "      <td>EASYJET</td>\n",
       "      <td>29</td>\n",
       "      <td>3</td>\n",
       "      <td>2011</td>\n",
       "      <td>122</td>\n",
       "      <td>58</td>\n",
       "      <td>28</td>\n",
       "    </tr>\n",
       "    <tr>\n",
       "      <th>2</th>\n",
       "      <td>Department for Transport</td>\n",
       "      <td>1</td>\n",
       "      <td>7969.20</td>\n",
       "      <td>2</td>\n",
       "      <td>Return</td>\n",
       "      <td>LONDON - LHR</td>\n",
       "      <td>SINGAPORE</td>\n",
       "      <td>BRITISH AIRWAYS</td>\n",
       "      <td>7</td>\n",
       "      <td>4</td>\n",
       "      <td>2011</td>\n",
       "      <td>166</td>\n",
       "      <td>59</td>\n",
       "      <td>17</td>\n",
       "    </tr>\n",
       "    <tr>\n",
       "      <th>3</th>\n",
       "      <td>Department for Transport</td>\n",
       "      <td>1</td>\n",
       "      <td>272.82</td>\n",
       "      <td>2</td>\n",
       "      <td>Return</td>\n",
       "      <td>LONDON - LGW</td>\n",
       "      <td>EDINBURGH</td>\n",
       "      <td>BRITISH AIRWAYS</td>\n",
       "      <td>7</td>\n",
       "      <td>4</td>\n",
       "      <td>2011</td>\n",
       "      <td>66</td>\n",
       "      <td>58</td>\n",
       "      <td>17</td>\n",
       "    </tr>\n",
       "    <tr>\n",
       "      <th>4</th>\n",
       "      <td>Department for Transport</td>\n",
       "      <td>1</td>\n",
       "      <td>7969.20</td>\n",
       "      <td>2</td>\n",
       "      <td>Return</td>\n",
       "      <td>LONDON - LHR</td>\n",
       "      <td>SINGAPORE</td>\n",
       "      <td>BRITISH AIRWAYS</td>\n",
       "      <td>7</td>\n",
       "      <td>4</td>\n",
       "      <td>2011</td>\n",
       "      <td>166</td>\n",
       "      <td>59</td>\n",
       "      <td>17</td>\n",
       "    </tr>\n",
       "    <tr>\n",
       "      <th>...</th>\n",
       "      <td>...</td>\n",
       "      <td>...</td>\n",
       "      <td>...</td>\n",
       "      <td>...</td>\n",
       "      <td>...</td>\n",
       "      <td>...</td>\n",
       "      <td>...</td>\n",
       "      <td>...</td>\n",
       "      <td>...</td>\n",
       "      <td>...</td>\n",
       "      <td>...</td>\n",
       "      <td>...</td>\n",
       "      <td>...</td>\n",
       "      <td>...</td>\n",
       "    </tr>\n",
       "    <tr>\n",
       "      <th>2950</th>\n",
       "      <td>Vehicle Certification Agency</td>\n",
       "      <td>1</td>\n",
       "      <td>71.49</td>\n",
       "      <td>0</td>\n",
       "      <td>Single</td>\n",
       "      <td>BELFAST CITY</td>\n",
       "      <td>BRISTOL</td>\n",
       "      <td>FLYBE</td>\n",
       "      <td>18</td>\n",
       "      <td>11</td>\n",
       "      <td>2011</td>\n",
       "      <td>31</td>\n",
       "      <td>9</td>\n",
       "      <td>32</td>\n",
       "    </tr>\n",
       "    <tr>\n",
       "      <th>2951</th>\n",
       "      <td>Vehicle Certification Agency</td>\n",
       "      <td>1</td>\n",
       "      <td>31.94</td>\n",
       "      <td>0</td>\n",
       "      <td>Single</td>\n",
       "      <td>BRISTOL</td>\n",
       "      <td>BELFAST INTL</td>\n",
       "      <td>EASYJET</td>\n",
       "      <td>18</td>\n",
       "      <td>11</td>\n",
       "      <td>2011</td>\n",
       "      <td>19</td>\n",
       "      <td>16</td>\n",
       "      <td>28</td>\n",
       "    </tr>\n",
       "    <tr>\n",
       "      <th>2952</th>\n",
       "      <td>Vehicle Certification Agency</td>\n",
       "      <td>1</td>\n",
       "      <td>267.40</td>\n",
       "      <td>0</td>\n",
       "      <td>Return</td>\n",
       "      <td>LAS PALMAS</td>\n",
       "      <td>LONDON - LHR</td>\n",
       "      <td>IBERIA</td>\n",
       "      <td>22</td>\n",
       "      <td>11</td>\n",
       "      <td>2011</td>\n",
       "      <td>110</td>\n",
       "      <td>53</td>\n",
       "      <td>35</td>\n",
       "    </tr>\n",
       "    <tr>\n",
       "      <th>2953</th>\n",
       "      <td>Vehicle Certification Agency</td>\n",
       "      <td>1</td>\n",
       "      <td>215.10</td>\n",
       "      <td>0</td>\n",
       "      <td>Return</td>\n",
       "      <td>LAS PALMAS</td>\n",
       "      <td>MADRID</td>\n",
       "      <td>IBERIA</td>\n",
       "      <td>29</td>\n",
       "      <td>11</td>\n",
       "      <td>2011</td>\n",
       "      <td>117</td>\n",
       "      <td>53</td>\n",
       "      <td>35</td>\n",
       "    </tr>\n",
       "    <tr>\n",
       "      <th>2954</th>\n",
       "      <td>Vehicle Certification Agency</td>\n",
       "      <td>1</td>\n",
       "      <td>103.30</td>\n",
       "      <td>0</td>\n",
       "      <td>Return</td>\n",
       "      <td>LONDON - LHR</td>\n",
       "      <td>GOTHENBURG</td>\n",
       "      <td>BRITISH AIRWAYS</td>\n",
       "      <td>30</td>\n",
       "      <td>11</td>\n",
       "      <td>2011</td>\n",
       "      <td>79</td>\n",
       "      <td>59</td>\n",
       "      <td>17</td>\n",
       "    </tr>\n",
       "  </tbody>\n",
       "</table>\n",
       "<p>2955 rows × 14 columns</p>\n",
       "</div>"
      ],
      "text/plain": [
       "                          Customer  Number of Travellers   Total Cost ex VAT   \\\n",
       "0         Department for Transport                     1                81.52   \n",
       "1         Department for Transport                     1               217.14   \n",
       "2         Department for Transport                     1              7969.20   \n",
       "3         Department for Transport                     1               272.82   \n",
       "4         Department for Transport                     1              7969.20   \n",
       "...                            ...                   ...                  ...   \n",
       "2950  Vehicle Certification Agency                     1                71.49   \n",
       "2951  Vehicle Certification Agency                     1                31.94   \n",
       "2952  Vehicle Certification Agency                     1               267.40   \n",
       "2953  Vehicle Certification Agency                     1               215.10   \n",
       "2954  Vehicle Certification Agency                     1               103.30   \n",
       "\n",
       "      Travel Class Ticket Single or Return Journey Start Point  \\\n",
       "0                0                  Return             GLASGOW   \n",
       "1                0                  Return        LONDON - LGW   \n",
       "2                2                  Return        LONDON - LHR   \n",
       "3                2                  Return        LONDON - LGW   \n",
       "4                2                  Return        LONDON - LHR   \n",
       "...            ...                     ...                 ...   \n",
       "2950             0                  Single        BELFAST CITY   \n",
       "2951             0                  Single             BRISTOL   \n",
       "2952             0                  Return          LAS PALMAS   \n",
       "2953             0                  Return          LAS PALMAS   \n",
       "2954             0                  Return        LONDON - LHR   \n",
       "\n",
       "     Journey Finish Point      Air Carrier  day  month  year  \\\n",
       "0            LONDON - LGW            FLYBE   10      2  2011   \n",
       "1               MARRAKECH          EASYJET   29      3  2011   \n",
       "2               SINGAPORE  BRITISH AIRWAYS    7      4  2011   \n",
       "3               EDINBURGH  BRITISH AIRWAYS    7      4  2011   \n",
       "4               SINGAPORE  BRITISH AIRWAYS    7      4  2011   \n",
       "...                   ...              ...  ...    ...   ...   \n",
       "2950              BRISTOL            FLYBE   18     11  2011   \n",
       "2951         BELFAST INTL          EASYJET   18     11  2011   \n",
       "2952         LONDON - LHR           IBERIA   22     11  2011   \n",
       "2953               MADRID           IBERIA   29     11  2011   \n",
       "2954           GOTHENBURG  BRITISH AIRWAYS   30     11  2011   \n",
       "\n",
       "      Journey Finish Point_le  Journey Start Point_le  Air Carrier_le  \n",
       "0                         109                      39              32  \n",
       "1                         122                      58              28  \n",
       "2                         166                      59              17  \n",
       "3                          66                      58              17  \n",
       "4                         166                      59              17  \n",
       "...                       ...                     ...             ...  \n",
       "2950                       31                       9              32  \n",
       "2951                       19                      16              28  \n",
       "2952                      110                      53              35  \n",
       "2953                      117                      53              35  \n",
       "2954                       79                      59              17  \n",
       "\n",
       "[2955 rows x 14 columns]"
      ]
     },
     "execution_count": 94,
     "metadata": {},
     "output_type": "execute_result"
    }
   ],
   "source": [
    "df1"
   ]
  },
  {
   "cell_type": "code",
   "execution_count": 95,
   "metadata": {},
   "outputs": [],
   "source": [
    "df1.drop([\"Ticket Single or Return\",\"Journey Start Point\",\"Journey Finish Point\",\"Air Carrier\"],axis=1,inplace=True)"
   ]
  },
  {
   "cell_type": "code",
   "execution_count": 96,
   "metadata": {},
   "outputs": [
    {
     "data": {
      "text/plain": [
       "<AxesSubplot:>"
      ]
     },
     "execution_count": 96,
     "metadata": {},
     "output_type": "execute_result"
    },
    {
     "data": {
      "image/png": "[encoded data removed]",
      "text/plain": [
       "<Figure size 1000x600 with 2 Axes>"
      ]
     },
     "metadata": {
      "needs_background": "light"
     },
     "output_type": "display_data"
    }
   ],
   "source": [
    "plt.figure(figsize=(10,6), dpi=100)\n",
    "sns.heatmap(df1.corr(),annot=True)\n",
    "#Alta correlación entre el precio del billete y el tipo de clase."
   ]
  },
  {
   "cell_type": "code",
   "execution_count": 97,
   "metadata": {},
   "outputs": [
    {
     "name": "stderr",
     "output_type": "stream",
     "text": [
      "C:\\Users\\carlo\\AppData\\Local\\Programs\\Python\\Python37\\lib\\site-packages\\seaborn\\distributions.py:2619: FutureWarning: `distplot` is a deprecated function and will be removed in a future version. Please adapt your code to use either `displot` (a figure-level function with similar flexibility) or `histplot` (an axes-level function for histograms).\n",
      "  warnings.warn(msg, FutureWarning)\n",
      "C:\\Users\\carlo\\AppData\\Local\\Programs\\Python\\Python37\\lib\\site-packages\\seaborn\\distributions.py:2619: FutureWarning: `distplot` is a deprecated function and will be removed in a future version. Please adapt your code to use either `displot` (a figure-level function with similar flexibility) or `histplot` (an axes-level function for histograms).\n",
      "  warnings.warn(msg, FutureWarning)\n"
     ]
    },
    {
     "data": {
      "image/png": "[encoded data removed]",
      "text/plain": [
       "<Figure size 1000x600 with 1 Axes>"
      ]
     },
     "metadata": {
      "needs_background": "light"
     },
     "output_type": "display_data"
    }
   ],
   "source": [
    "plt.figure(figsize=(10,6), dpi=100)\n",
    "fig_sin_log=sns.distplot(df1[\" Total Cost ex VAT \"]);\n",
    "fig1=sns.distplot(df1[\" Total Cost ex VAT \"])\n",
    "plt.xlabel('Precio del Billete', fontsize=20)\n",
    "plt.ylabel('Densidad')\n",
    "plt.title(\"Distribución del precio del billete\", size=17, color=\"Black\");"
   ]
  },
  {
   "cell_type": "code",
   "execution_count": 102,
   "metadata": {},
   "outputs": [],
   "source": [
    "df1.drop([\"Customer\"],axis=1,inplace=True)"
   ]
  },
  {
   "cell_type": "code",
   "execution_count": 123,
   "metadata": {},
   "outputs": [
    {
     "data": {
      "text/html": [
       "<div>\n",
       "<style scoped>\n",
       "    .dataframe tbody tr th:only-of-type {\n",
       "        vertical-align: middle;\n",
       "    }\n",
       "\n",
       "    .dataframe tbody tr th {\n",
       "        vertical-align: top;\n",
       "    }\n",
       "\n",
       "    .dataframe thead th {\n",
       "        text-align: right;\n",
       "    }\n",
       "</style>\n",
       "<table border=\"1\" class=\"dataframe\">\n",
       "  <thead>\n",
       "    <tr style=\"text-align: right;\">\n",
       "      <th></th>\n",
       "      <th>Number of Travellers</th>\n",
       "      <th>Total Cost ex VAT</th>\n",
       "      <th>Travel Class</th>\n",
       "      <th>day</th>\n",
       "      <th>month</th>\n",
       "      <th>year</th>\n",
       "      <th>Journey Finish Point_le</th>\n",
       "      <th>Journey Start Point_le</th>\n",
       "      <th>Air Carrier_le</th>\n",
       "    </tr>\n",
       "  </thead>\n",
       "  <tbody>\n",
       "    <tr>\n",
       "      <th>0</th>\n",
       "      <td>1</td>\n",
       "      <td>81.52</td>\n",
       "      <td>0</td>\n",
       "      <td>10</td>\n",
       "      <td>2</td>\n",
       "      <td>2011</td>\n",
       "      <td>109</td>\n",
       "      <td>39</td>\n",
       "      <td>32</td>\n",
       "    </tr>\n",
       "    <tr>\n",
       "      <th>1</th>\n",
       "      <td>1</td>\n",
       "      <td>217.14</td>\n",
       "      <td>0</td>\n",
       "      <td>29</td>\n",
       "      <td>3</td>\n",
       "      <td>2011</td>\n",
       "      <td>122</td>\n",
       "      <td>58</td>\n",
       "      <td>28</td>\n",
       "    </tr>\n",
       "    <tr>\n",
       "      <th>2</th>\n",
       "      <td>1</td>\n",
       "      <td>7969.20</td>\n",
       "      <td>2</td>\n",
       "      <td>7</td>\n",
       "      <td>4</td>\n",
       "      <td>2011</td>\n",
       "      <td>166</td>\n",
       "      <td>59</td>\n",
       "      <td>17</td>\n",
       "    </tr>\n",
       "    <tr>\n",
       "      <th>3</th>\n",
       "      <td>1</td>\n",
       "      <td>272.82</td>\n",
       "      <td>2</td>\n",
       "      <td>7</td>\n",
       "      <td>4</td>\n",
       "      <td>2011</td>\n",
       "      <td>66</td>\n",
       "      <td>58</td>\n",
       "      <td>17</td>\n",
       "    </tr>\n",
       "    <tr>\n",
       "      <th>4</th>\n",
       "      <td>1</td>\n",
       "      <td>7969.20</td>\n",
       "      <td>2</td>\n",
       "      <td>7</td>\n",
       "      <td>4</td>\n",
       "      <td>2011</td>\n",
       "      <td>166</td>\n",
       "      <td>59</td>\n",
       "      <td>17</td>\n",
       "    </tr>\n",
       "    <tr>\n",
       "      <th>...</th>\n",
       "      <td>...</td>\n",
       "      <td>...</td>\n",
       "      <td>...</td>\n",
       "      <td>...</td>\n",
       "      <td>...</td>\n",
       "      <td>...</td>\n",
       "      <td>...</td>\n",
       "      <td>...</td>\n",
       "      <td>...</td>\n",
       "    </tr>\n",
       "    <tr>\n",
       "      <th>2950</th>\n",
       "      <td>1</td>\n",
       "      <td>71.49</td>\n",
       "      <td>0</td>\n",
       "      <td>18</td>\n",
       "      <td>11</td>\n",
       "      <td>2011</td>\n",
       "      <td>31</td>\n",
       "      <td>9</td>\n",
       "      <td>32</td>\n",
       "    </tr>\n",
       "    <tr>\n",
       "      <th>2951</th>\n",
       "      <td>1</td>\n",
       "      <td>31.94</td>\n",
       "      <td>0</td>\n",
       "      <td>18</td>\n",
       "      <td>11</td>\n",
       "      <td>2011</td>\n",
       "      <td>19</td>\n",
       "      <td>16</td>\n",
       "      <td>28</td>\n",
       "    </tr>\n",
       "    <tr>\n",
       "      <th>2952</th>\n",
       "      <td>1</td>\n",
       "      <td>267.40</td>\n",
       "      <td>0</td>\n",
       "      <td>22</td>\n",
       "      <td>11</td>\n",
       "      <td>2011</td>\n",
       "      <td>110</td>\n",
       "      <td>53</td>\n",
       "      <td>35</td>\n",
       "    </tr>\n",
       "    <tr>\n",
       "      <th>2953</th>\n",
       "      <td>1</td>\n",
       "      <td>215.10</td>\n",
       "      <td>0</td>\n",
       "      <td>29</td>\n",
       "      <td>11</td>\n",
       "      <td>2011</td>\n",
       "      <td>117</td>\n",
       "      <td>53</td>\n",
       "      <td>35</td>\n",
       "    </tr>\n",
       "    <tr>\n",
       "      <th>2954</th>\n",
       "      <td>1</td>\n",
       "      <td>103.30</td>\n",
       "      <td>0</td>\n",
       "      <td>30</td>\n",
       "      <td>11</td>\n",
       "      <td>2011</td>\n",
       "      <td>79</td>\n",
       "      <td>59</td>\n",
       "      <td>17</td>\n",
       "    </tr>\n",
       "  </tbody>\n",
       "</table>\n",
       "<p>2955 rows × 9 columns</p>\n",
       "</div>"
      ],
      "text/plain": [
       "      Number of Travellers   Total Cost ex VAT   Travel Class  day  month  \\\n",
       "0                        1                81.52             0   10      2   \n",
       "1                        1               217.14             0   29      3   \n",
       "2                        1              7969.20             2    7      4   \n",
       "3                        1               272.82             2    7      4   \n",
       "4                        1              7969.20             2    7      4   \n",
       "...                    ...                  ...           ...  ...    ...   \n",
       "2950                     1                71.49             0   18     11   \n",
       "2951                     1                31.94             0   18     11   \n",
       "2952                     1               267.40             0   22     11   \n",
       "2953                     1               215.10             0   29     11   \n",
       "2954                     1               103.30             0   30     11   \n",
       "\n",
       "      year  Journey Finish Point_le  Journey Start Point_le  Air Carrier_le  \n",
       "0     2011                      109                      39              32  \n",
       "1     2011                      122                      58              28  \n",
       "2     2011                      166                      59              17  \n",
       "3     2011                       66                      58              17  \n",
       "4     2011                      166                      59              17  \n",
       "...    ...                      ...                     ...             ...  \n",
       "2950  2011                       31                       9              32  \n",
       "2951  2011                       19                      16              28  \n",
       "2952  2011                      110                      53              35  \n",
       "2953  2011                      117                      53              35  \n",
       "2954  2011                       79                      59              17  \n",
       "\n",
       "[2955 rows x 9 columns]"
      ]
     },
     "execution_count": 123,
     "metadata": {},
     "output_type": "execute_result"
    }
   ],
   "source": [
    "df1"
   ]
  },
  {
   "cell_type": "markdown",
   "metadata": {},
   "source": [
    "#### Aplicar logaritmo a los valores del dataframe para mejorar la simetría en la distribución."
   ]
  },
  {
   "cell_type": "code",
   "execution_count": 103,
   "metadata": {},
   "outputs": [],
   "source": [
    "df1_log=np.log(df1+1)"
   ]
  },
  {
   "cell_type": "code",
   "execution_count": 104,
   "metadata": {},
   "outputs": [
    {
     "name": "stderr",
     "output_type": "stream",
     "text": [
      "C:\\Users\\carlo\\AppData\\Local\\Programs\\Python\\Python37\\lib\\site-packages\\seaborn\\distributions.py:2619: FutureWarning: `distplot` is a deprecated function and will be removed in a future version. Please adapt your code to use either `displot` (a figure-level function with similar flexibility) or `histplot` (an axes-level function for histograms).\n",
      "  warnings.warn(msg, FutureWarning)\n"
     ]
    },
    {
     "data": {
      "image/png": "[encoded data removed]",
      "text/plain": [
       "<Figure size 1000x600 with 1 Axes>"
      ]
     },
     "metadata": {
      "needs_background": "light"
     },
     "output_type": "display_data"
    }
   ],
   "source": [
    "plt.figure(figsize=(10,6), dpi=100)\n",
    "fig1=sns.distplot(df1_log[\" Total Cost ex VAT \"])\n",
    "plt.xlabel('Precio del Billete', fontsize=20)\n",
    "plt.ylabel('Densidad')\n",
    "plt.title(\"Distribución del precio del billete\", size=17, color=\"Black\");"
   ]
  },
  {
   "cell_type": "markdown",
   "metadata": {},
   "source": [
    "#### Establecer \"X\" y \"y\""
   ]
  },
  {
   "cell_type": "code",
   "execution_count": 105,
   "metadata": {},
   "outputs": [],
   "source": [
    "X=df1_log.drop(\" Total Cost ex VAT \",axis=1)\n",
    "y=df1_log[\" Total Cost ex VAT \"]"
   ]
  },
  {
   "cell_type": "markdown",
   "metadata": {},
   "source": [
    "#### Train test split"
   ]
  },
  {
   "cell_type": "code",
   "execution_count": 106,
   "metadata": {},
   "outputs": [],
   "source": [
    "from sklearn.model_selection import train_test_split\n",
    "X_train, X_test, y_train, y_test =  train_test_split(X, y, test_size = 0.20, random_state = 42)"
   ]
  },
  {
   "cell_type": "markdown",
   "metadata": {},
   "source": [
    "#### Escalado de datos"
   ]
  },
  {
   "cell_type": "code",
   "execution_count": 107,
   "metadata": {},
   "outputs": [],
   "source": [
    "from sklearn import preprocessing\n",
    "std_scale = preprocessing.StandardScaler().fit(X_train)\n",
    "X_train_scal = std_scale.transform(X_train)\n",
    "X_test_scal = std_scale.transform(X_test)"
   ]
  },
  {
   "cell_type": "markdown",
   "metadata": {},
   "source": [
    "#### Gridsearch con modelo de Random Forest Regressor"
   ]
  },
  {
   "cell_type": "code",
   "execution_count": 108,
   "metadata": {},
   "outputs": [
    {
     "data": {
      "text/plain": [
       "GridSearchCV(cv=10, estimator=RandomForestRegressor(random_state=42), n_jobs=-1,\n",
       "             param_grid={'max_depth': [50, 100, 150, 200],\n",
       "                         'max_features': [1, 2, 3],\n",
       "                         'n_estimators': [10, 100, 1000]})"
      ]
     },
     "execution_count": 108,
     "metadata": {},
     "output_type": "execute_result"
    }
   ],
   "source": [
    "from sklearn.ensemble import RandomForestRegressor\n",
    "from sklearn.model_selection import GridSearchCV\n",
    "parameters = {\"n_estimators\": [10, 100, 1000],\n",
    "    \"max_features\": [1,2,3], \"max_depth\": [50,100,150,200]}\n",
    "\n",
    "rnd_reg_grid = RandomForestRegressor(random_state=42)\n",
    "\n",
    "m1 = GridSearchCV(estimator = rnd_reg_grid,\n",
    "                  param_grid = parameters,\n",
    "                  n_jobs = -1, cv=10)\n",
    "\n",
    "m1.fit(X_train_scal, y_train)"
   ]
  },
  {
   "cell_type": "code",
   "execution_count": 109,
   "metadata": {},
   "outputs": [
    {
     "name": "stdout",
     "output_type": "stream",
     "text": [
      "RandomForestRegressor(max_depth=50, max_features=2, n_estimators=1000,\n",
      "                      random_state=42)\n",
      "0.6210847663073643\n",
      "{'max_depth': 50, 'max_features': 2, 'n_estimators': 1000}\n"
     ]
    }
   ],
   "source": [
    "print(m1.best_estimator_)\n",
    "print(m1.best_score_)\n",
    "print(m1.best_params_)"
   ]
  },
  {
   "cell_type": "code",
   "execution_count": 110,
   "metadata": {},
   "outputs": [],
   "source": [
    "from sklearn import metrics\n",
    "from sklearn.metrics import r2_score"
   ]
  },
  {
   "cell_type": "code",
   "execution_count": 111,
   "metadata": {},
   "outputs": [
    {
     "name": "stdout",
     "output_type": "stream",
     "text": [
      "MAE: 0.4705768165580466\n",
      "MSE: 0.5062617154671268\n",
      "RMSE: 0.711520706281361\n",
      "R2 score: 0.586378284528785\n"
     ]
    }
   ],
   "source": [
    "print('MAE:', metrics.mean_absolute_error(y_test, m1.predict(X_test_scal)))\n",
    "print('MSE:', metrics.mean_squared_error(y_test, m1.predict(X_test_scal)))\n",
    "print('RMSE:', np.sqrt(metrics.mean_squared_error(y_test,m1.predict(X_test_scal))))\n",
    "print(\"R2 score:\", r2_score(y_test,m1.predict(X_test_scal)))"
   ]
  },
  {
   "cell_type": "code",
   "execution_count": 113,
   "metadata": {},
   "outputs": [
    {
     "name": "stdout",
     "output_type": "stream",
     "text": [
      "MAE: 0.4705768165580466\n",
      "MSE: 0.5062617154671268\n",
      "RMSE: 0.711520706281361\n",
      "R2 score: 0.586378284528785\n"
     ]
    }
   ],
   "source": [
    "rg=RandomForestRegressor(random_state=42,max_depth=50,max_features=2,n_estimators=1000)\n",
    "rg.fit(X_train_scal,y_train)\n",
    "print('MAE:', metrics.mean_absolute_error(y_test, rg.predict(X_test_scal)))\n",
    "print('MSE:', metrics.mean_squared_error(y_test, rg.predict(X_test_scal)))\n",
    "print('RMSE:', np.sqrt(metrics.mean_squared_error(y_test,rg.predict(X_test_scal))))\n",
    "print(\"R2 score:\", r2_score(y_test,rg.predict(X_test_scal)))"
   ]
  },
  {
   "cell_type": "code",
   "execution_count": 114,
   "metadata": {},
   "outputs": [
    {
     "data": {
      "text/plain": [
       "array([0.        , 0.27913656, 0.14990536, 0.09325964, 0.        ,\n",
       "       0.1902415 , 0.14536148, 0.14209546])"
      ]
     },
     "execution_count": 114,
     "metadata": {},
     "output_type": "execute_result"
    }
   ],
   "source": [
    "rg.feature_importances_"
   ]
  },
  {
   "cell_type": "code",
   "execution_count": 115,
   "metadata": {},
   "outputs": [
    {
     "data": {
      "text/html": [
       "<div>\n",
       "<style scoped>\n",
       "    .dataframe tbody tr th:only-of-type {\n",
       "        vertical-align: middle;\n",
       "    }\n",
       "\n",
       "    .dataframe tbody tr th {\n",
       "        vertical-align: top;\n",
       "    }\n",
       "\n",
       "    .dataframe thead th {\n",
       "        text-align: right;\n",
       "    }\n",
       "</style>\n",
       "<table border=\"1\" class=\"dataframe\">\n",
       "  <thead>\n",
       "    <tr style=\"text-align: right;\">\n",
       "      <th></th>\n",
       "      <th>Number of Travellers</th>\n",
       "      <th>Travel Class</th>\n",
       "      <th>day</th>\n",
       "      <th>month</th>\n",
       "      <th>year</th>\n",
       "      <th>Journey Finish Point_le</th>\n",
       "      <th>Journey Start Point_le</th>\n",
       "      <th>Air Carrier_le</th>\n",
       "    </tr>\n",
       "  </thead>\n",
       "  <tbody>\n",
       "    <tr>\n",
       "      <th>1364</th>\n",
       "      <td>0.693147</td>\n",
       "      <td>0.000000</td>\n",
       "      <td>2.302585</td>\n",
       "      <td>1.791759</td>\n",
       "      <td>7.606885</td>\n",
       "      <td>4.356709</td>\n",
       "      <td>4.564348</td>\n",
       "      <td>3.496508</td>\n",
       "    </tr>\n",
       "    <tr>\n",
       "      <th>1735</th>\n",
       "      <td>0.693147</td>\n",
       "      <td>0.000000</td>\n",
       "      <td>3.135494</td>\n",
       "      <td>1.945910</td>\n",
       "      <td>7.606885</td>\n",
       "      <td>1.945910</td>\n",
       "      <td>4.605170</td>\n",
       "      <td>3.737670</td>\n",
       "    </tr>\n",
       "    <tr>\n",
       "      <th>879</th>\n",
       "      <td>0.693147</td>\n",
       "      <td>0.000000</td>\n",
       "      <td>3.401197</td>\n",
       "      <td>2.302585</td>\n",
       "      <td>7.606885</td>\n",
       "      <td>3.637586</td>\n",
       "      <td>4.094345</td>\n",
       "      <td>2.944439</td>\n",
       "    </tr>\n",
       "    <tr>\n",
       "      <th>2325</th>\n",
       "      <td>0.693147</td>\n",
       "      <td>0.000000</td>\n",
       "      <td>3.135494</td>\n",
       "      <td>2.302585</td>\n",
       "      <td>7.606885</td>\n",
       "      <td>0.693147</td>\n",
       "      <td>4.564348</td>\n",
       "      <td>3.332205</td>\n",
       "    </tr>\n",
       "    <tr>\n",
       "      <th>2863</th>\n",
       "      <td>0.693147</td>\n",
       "      <td>0.000000</td>\n",
       "      <td>2.944439</td>\n",
       "      <td>1.945910</td>\n",
       "      <td>7.606885</td>\n",
       "      <td>4.189655</td>\n",
       "      <td>4.682131</td>\n",
       "      <td>4.007333</td>\n",
       "    </tr>\n",
       "    <tr>\n",
       "      <th>...</th>\n",
       "      <td>...</td>\n",
       "      <td>...</td>\n",
       "      <td>...</td>\n",
       "      <td>...</td>\n",
       "      <td>...</td>\n",
       "      <td>...</td>\n",
       "      <td>...</td>\n",
       "      <td>...</td>\n",
       "    </tr>\n",
       "    <tr>\n",
       "      <th>1638</th>\n",
       "      <td>0.693147</td>\n",
       "      <td>0.000000</td>\n",
       "      <td>2.197225</td>\n",
       "      <td>1.945910</td>\n",
       "      <td>7.606885</td>\n",
       "      <td>0.693147</td>\n",
       "      <td>2.302585</td>\n",
       "      <td>3.496508</td>\n",
       "    </tr>\n",
       "    <tr>\n",
       "      <th>1095</th>\n",
       "      <td>0.693147</td>\n",
       "      <td>0.000000</td>\n",
       "      <td>3.465736</td>\n",
       "      <td>2.397895</td>\n",
       "      <td>7.606885</td>\n",
       "      <td>4.867534</td>\n",
       "      <td>4.094345</td>\n",
       "      <td>2.890372</td>\n",
       "    </tr>\n",
       "    <tr>\n",
       "      <th>1130</th>\n",
       "      <td>0.693147</td>\n",
       "      <td>0.000000</td>\n",
       "      <td>1.609438</td>\n",
       "      <td>2.484907</td>\n",
       "      <td>7.606885</td>\n",
       "      <td>4.574711</td>\n",
       "      <td>4.189655</td>\n",
       "      <td>3.496508</td>\n",
       "    </tr>\n",
       "    <tr>\n",
       "      <th>1294</th>\n",
       "      <td>0.693147</td>\n",
       "      <td>1.098612</td>\n",
       "      <td>3.091042</td>\n",
       "      <td>1.609438</td>\n",
       "      <td>7.606885</td>\n",
       "      <td>5.198497</td>\n",
       "      <td>4.615121</td>\n",
       "      <td>3.583519</td>\n",
       "    </tr>\n",
       "    <tr>\n",
       "      <th>860</th>\n",
       "      <td>0.693147</td>\n",
       "      <td>0.000000</td>\n",
       "      <td>3.367296</td>\n",
       "      <td>2.302585</td>\n",
       "      <td>7.606885</td>\n",
       "      <td>5.204007</td>\n",
       "      <td>3.688879</td>\n",
       "      <td>3.496508</td>\n",
       "    </tr>\n",
       "  </tbody>\n",
       "</table>\n",
       "<p>2364 rows × 8 columns</p>\n",
       "</div>"
      ],
      "text/plain": [
       "      Number of Travellers  Travel Class       day     month      year  \\\n",
       "1364              0.693147      0.000000  2.302585  1.791759  7.606885   \n",
       "1735              0.693147      0.000000  3.135494  1.945910  7.606885   \n",
       "879               0.693147      0.000000  3.401197  2.302585  7.606885   \n",
       "2325              0.693147      0.000000  3.135494  2.302585  7.606885   \n",
       "2863              0.693147      0.000000  2.944439  1.945910  7.606885   \n",
       "...                    ...           ...       ...       ...       ...   \n",
       "1638              0.693147      0.000000  2.197225  1.945910  7.606885   \n",
       "1095              0.693147      0.000000  3.465736  2.397895  7.606885   \n",
       "1130              0.693147      0.000000  1.609438  2.484907  7.606885   \n",
       "1294              0.693147      1.098612  3.091042  1.609438  7.606885   \n",
       "860               0.693147      0.000000  3.367296  2.302585  7.606885   \n",
       "\n",
       "      Journey Finish Point_le  Journey Start Point_le  Air Carrier_le  \n",
       "1364                 4.356709                4.564348        3.496508  \n",
       "1735                 1.945910                4.605170        3.737670  \n",
       "879                  3.637586                4.094345        2.944439  \n",
       "2325                 0.693147                4.564348        3.332205  \n",
       "2863                 4.189655                4.682131        4.007333  \n",
       "...                       ...                     ...             ...  \n",
       "1638                 0.693147                2.302585        3.496508  \n",
       "1095                 4.867534                4.094345        2.890372  \n",
       "1130                 4.574711                4.189655        3.496508  \n",
       "1294                 5.198497                4.615121        3.583519  \n",
       "860                  5.204007                3.688879        3.496508  \n",
       "\n",
       "[2364 rows x 8 columns]"
      ]
     },
     "execution_count": 115,
     "metadata": {},
     "output_type": "execute_result"
    }
   ],
   "source": [
    "X_train"
   ]
  },
  {
   "cell_type": "code",
   "execution_count": 116,
   "metadata": {},
   "outputs": [],
   "source": [
    "dict1={\"features\": [\"Número de Viajeros\",\"Clase\",\t\"Día\",\"Mes\",\"Año\",\"Destino\",\"Origen\",\"Aerolínea\"],'importances': rg.feature_importances_}"
   ]
  },
  {
   "cell_type": "code",
   "execution_count": 117,
   "metadata": {},
   "outputs": [],
   "source": [
    "df_features=pd.DataFrame(dict1).sort_values('importances', ascending=False)"
   ]
  },
  {
   "cell_type": "code",
   "execution_count": 118,
   "metadata": {},
   "outputs": [],
   "source": [
    "df_features.rename(columns={\"features\":\"Variable\",\"importances\":\"Importancia\"},inplace=True)"
   ]
  },
  {
   "cell_type": "code",
   "execution_count": 119,
   "metadata": {},
   "outputs": [
    {
     "data": {
      "text/html": [
       "<div>\n",
       "<style scoped>\n",
       "    .dataframe tbody tr th:only-of-type {\n",
       "        vertical-align: middle;\n",
       "    }\n",
       "\n",
       "    .dataframe tbody tr th {\n",
       "        vertical-align: top;\n",
       "    }\n",
       "\n",
       "    .dataframe thead th {\n",
       "        text-align: right;\n",
       "    }\n",
       "</style>\n",
       "<table border=\"1\" class=\"dataframe\">\n",
       "  <thead>\n",
       "    <tr style=\"text-align: right;\">\n",
       "      <th></th>\n",
       "      <th>Variable</th>\n",
       "      <th>Importancia</th>\n",
       "    </tr>\n",
       "  </thead>\n",
       "  <tbody>\n",
       "    <tr>\n",
       "      <th>1</th>\n",
       "      <td>Clase</td>\n",
       "      <td>0.279137</td>\n",
       "    </tr>\n",
       "    <tr>\n",
       "      <th>5</th>\n",
       "      <td>Destino</td>\n",
       "      <td>0.190242</td>\n",
       "    </tr>\n",
       "    <tr>\n",
       "      <th>2</th>\n",
       "      <td>Día</td>\n",
       "      <td>0.149905</td>\n",
       "    </tr>\n",
       "    <tr>\n",
       "      <th>6</th>\n",
       "      <td>Origen</td>\n",
       "      <td>0.145361</td>\n",
       "    </tr>\n",
       "    <tr>\n",
       "      <th>7</th>\n",
       "      <td>Aerolínea</td>\n",
       "      <td>0.142095</td>\n",
       "    </tr>\n",
       "    <tr>\n",
       "      <th>3</th>\n",
       "      <td>Mes</td>\n",
       "      <td>0.093260</td>\n",
       "    </tr>\n",
       "    <tr>\n",
       "      <th>0</th>\n",
       "      <td>Número de Viajeros</td>\n",
       "      <td>0.000000</td>\n",
       "    </tr>\n",
       "    <tr>\n",
       "      <th>4</th>\n",
       "      <td>Año</td>\n",
       "      <td>0.000000</td>\n",
       "    </tr>\n",
       "  </tbody>\n",
       "</table>\n",
       "</div>"
      ],
      "text/plain": [
       "             Variable  Importancia\n",
       "1               Clase     0.279137\n",
       "5             Destino     0.190242\n",
       "2                 Día     0.149905\n",
       "6              Origen     0.145361\n",
       "7           Aerolínea     0.142095\n",
       "3                 Mes     0.093260\n",
       "0  Número de Viajeros     0.000000\n",
       "4                 Año     0.000000"
      ]
     },
     "execution_count": 119,
     "metadata": {},
     "output_type": "execute_result"
    }
   ],
   "source": [
    "df_features"
   ]
  },
  {
   "cell_type": "code",
   "execution_count": 120,
   "metadata": {},
   "outputs": [],
   "source": [
    "barra1 = np.array(df_features[\"Importancia\"])\n",
    "barra2 = np.array(df_features[\"Variable\"])"
   ]
  },
  {
   "cell_type": "code",
   "execution_count": 121,
   "metadata": {},
   "outputs": [
    {
     "data": {
      "image/png": "[encoded data removed]",
      "text/plain": [
       "<Figure size 1000x600 with 1 Axes>"
      ]
     },
     "metadata": {
      "needs_background": "light"
     },
     "output_type": "display_data"
    }
   ],
   "source": [
    "plt.figure(figsize=(10,6), dpi=100)\n",
    "plt.barh(barra2, barra1, height = 0.1,color=\"black\")\n",
    "plt.xlabel('Importancia', fontsize=20)\n",
    "plt.ylabel('Variables')\n",
    "plt.title(\"Importancia de las variables\", size=17, color=\"Black\");\n",
    "plt.show()"
   ]
  },
  {
   "cell_type": "markdown",
   "metadata": {},
   "source": [
    "#### Gridsearch con modelo XGBoost"
   ]
  },
  {
   "cell_type": "code",
   "execution_count": 102,
   "metadata": {},
   "outputs": [
    {
     "name": "stdout",
     "output_type": "stream",
     "text": [
      "[23:00:06] WARNING: C:/Users/Administrator/workspace/xgboost-win64_release_1.5.0/src/learner.cc:576: \n",
      "Parameters: { \"learnig_rate\" } might not be used.\n",
      "\n",
      "  This could be a false alarm, with some parameters getting used by language bindings but\n",
      "  then being mistakenly passed down to XGBoost core, or some parameter actually being used\n",
      "  but getting flagged wrongly here. Please open an issue if you find any such cases.\n",
      "\n",
      "\n"
     ]
    },
    {
     "data": {
      "text/plain": [
       "GridSearchCV(cv=10,\n",
       "             estimator=XGBRegressor(base_score=None, booster=None,\n",
       "                                    colsample_bylevel=None,\n",
       "                                    colsample_bynode=None,\n",
       "                                    colsample_bytree=None,\n",
       "                                    enable_categorical=False, gamma=None,\n",
       "                                    gpu_id=None, importance_type=None,\n",
       "                                    interaction_constraints=None,\n",
       "                                    learning_rate=None, max_delta_step=None,\n",
       "                                    max_depth=None, min_child_weight=None,\n",
       "                                    missing=nan, monotone_constraints=None,...\n",
       "                                    num_parallel_tree=None, predictor=None,\n",
       "                                    random_state=42, reg_alpha=None,\n",
       "                                    reg_lambda=None, scale_pos_weight=None,\n",
       "                                    subsample=None, tree_method=None,\n",
       "                                    validate_parameters=None, verbosity=None),\n",
       "             n_jobs=-1,\n",
       "             param_grid={'learnig_rate': [0.1, 0.3, 0.5, 0.7, 0.9],\n",
       "                         'max_depth': array([ 1,  2,  3,  4,  5,  6,  7,  8,  9, 10, 11, 12, 13, 14, 15, 16, 17,\n",
       "       18, 19, 20, 21, 22, 23, 24, 25, 26, 27, 28, 29]),\n",
       "                         'n_estimators': [10, 100, 1000]})"
      ]
     },
     "execution_count": 102,
     "metadata": {},
     "output_type": "execute_result"
    }
   ],
   "source": [
    "import xgboost\n",
    "#Con max_depth me bajaba el score\n",
    "parameters = {\"learnig_rate\": [0.1, 0.3, 0.5, 0.7,0.9], \"n_estimators\": [10, 100, 1000],\n",
    "            \"max_depth\": np.arange(1,30)}\n",
    "xgb_reg_grid = xgboost.XGBRegressor(random_state=42)\n",
    "\n",
    "m2 = GridSearchCV(estimator = xgb_reg_grid,\n",
    "                  param_grid = parameters,\n",
    "                  n_jobs = -1, cv=10)\n",
    "\n",
    "m2.fit(X_train_scal, y_train)"
   ]
  },
  {
   "cell_type": "code",
   "execution_count": 103,
   "metadata": {},
   "outputs": [
    {
     "name": "stdout",
     "output_type": "stream",
     "text": [
      "[23:01:37] WARNING: C:/Users/Administrator/workspace/xgboost-win64_release_1.5.0/src/learner.cc:576: \n",
      "Parameters: { \"explain_level\" } might not be used.\n",
      "\n",
      "  This could be a false alarm, with some parameters getting used by language bindings but\n",
      "  then being mistakenly passed down to XGBoost core, or some parameter actually being used\n",
      "  but getting flagged wrongly here. Please open an issue if you find any such cases.\n",
      "\n",
      "\n"
     ]
    },
    {
     "data": {
      "text/plain": [
       "GridSearchCV(cv=10,\n",
       "             estimator=XGBRegressor(base_score=None, booster=None,\n",
       "                                    colsample_bylevel=None,\n",
       "                                    colsample_bynode=None,\n",
       "                                    colsample_bytree=None,\n",
       "                                    enable_categorical=False, gamma=None,\n",
       "                                    gpu_id=None, importance_type=None,\n",
       "                                    interaction_constraints=None,\n",
       "                                    learning_rate=None, max_delta_step=None,\n",
       "                                    max_depth=None, min_child_weight=None,\n",
       "                                    missing=nan, monotone_constraints=None,\n",
       "                                    n_estimators=100, n_jobs=None,\n",
       "                                    num_parallel_tree=None, predictor=None,\n",
       "                                    random_state=42, reg_alpha=None,\n",
       "                                    reg_lambda=None, scale_pos_weight=None,\n",
       "                                    subsample=None, tree_method=None,\n",
       "                                    validate_parameters=None, verbosity=None),\n",
       "             n_jobs=-1,\n",
       "             param_grid={'eta': [0.075], 'explain_level': [2], 'max_depth': [6],\n",
       "                         'min_child_weight': [1], 'random_state': [42],\n",
       "                         'subsample': [1.0]})"
      ]
     },
     "execution_count": 103,
     "metadata": {},
     "output_type": "execute_result"
    }
   ],
   "source": [
    "import xgboost\n",
    "#Con max_depth me bajaba el score\n",
    "parameters = {\"max_depth\":[6],\"eta\":[0.075],\"min_child_weight\":[1],\n",
    "                \"subsample\":[1.0],\"explain_level\":[2],\"random_state\":[42]}\n",
    "xgb_reg_grid = xgboost.XGBRegressor(random_state=42)\n",
    "\n",
    "m22 = GridSearchCV(estimator = xgb_reg_grid,\n",
    "                  param_grid = parameters,\n",
    "                  n_jobs = -1, cv=10)\n",
    "\n",
    "m22.fit(X_train_scal, y_train)"
   ]
  },
  {
   "cell_type": "code",
   "execution_count": 104,
   "metadata": {},
   "outputs": [
    {
     "name": "stdout",
     "output_type": "stream",
     "text": [
      "XGBRegressor(base_score=0.5, booster='gbtree', colsample_bylevel=1,\n",
      "             colsample_bynode=1, colsample_bytree=1, enable_categorical=False,\n",
      "             gamma=0, gpu_id=-1, importance_type=None,\n",
      "             interaction_constraints='', learnig_rate=0.1,\n",
      "             learning_rate=0.300000012, max_delta_step=0, max_depth=5,\n",
      "             min_child_weight=1, missing=nan, monotone_constraints='()',\n",
      "             n_estimators=100, n_jobs=8, num_parallel_tree=1, predictor='auto',\n",
      "             random_state=42, reg_alpha=0, reg_lambda=1, scale_pos_weight=1,\n",
      "             subsample=1, tree_method='exact', validate_parameters=1,\n",
      "             verbosity=None)\n",
      "0.6199606282101243\n",
      "{'learnig_rate': 0.1, 'max_depth': 5, 'n_estimators': 100}\n"
     ]
    }
   ],
   "source": [
    "print(m2.best_estimator_)\n",
    "print(m2.best_score_)\n",
    "print(m2.best_params_)"
   ]
  },
  {
   "cell_type": "code",
   "execution_count": 106,
   "metadata": {},
   "outputs": [
    {
     "data": {
      "text/plain": [
       "0.5909001107061915"
      ]
     },
     "execution_count": 106,
     "metadata": {},
     "output_type": "execute_result"
    }
   ],
   "source": [
    "pred2 = m2.predict(X_test_scal)\n",
    "r2_score(y_test, pred2)"
   ]
  },
  {
   "cell_type": "code",
   "execution_count": 107,
   "metadata": {},
   "outputs": [
    {
     "name": "stdout",
     "output_type": "stream",
     "text": [
      "MAE: 0.47333367226255474\n",
      "MSE: 0.5007271233700703\n",
      "RMSE: 0.707620748261433\n",
      "R2 score: 0.5909001107061915\n"
     ]
    }
   ],
   "source": [
    "print('MAE:', metrics.mean_absolute_error(y_test, pred2))\n",
    "print('MSE:', metrics.mean_squared_error(y_test, pred2))\n",
    "print('RMSE:', np.sqrt(metrics.mean_squared_error(y_test,pred2)))\n",
    "print(\"R2 score:\", r2_score(y_test,pred2))"
   ]
  },
  {
   "cell_type": "markdown",
   "metadata": {},
   "source": [
    "#### Gridsearch con modelo Ada Boost Regressor"
   ]
  },
  {
   "cell_type": "code",
   "execution_count": 113,
   "metadata": {},
   "outputs": [
    {
     "data": {
      "text/plain": [
       "GridSearchCV(cv=10, estimator=AdaBoostRegressor(random_state=42), n_jobs=-1,\n",
       "             param_grid={'loss': ['linear', 'square', 'exponential'],\n",
       "                         'n_estimators': [50, 80, 100, 150, 200]})"
      ]
     },
     "execution_count": 113,
     "metadata": {},
     "output_type": "execute_result"
    }
   ],
   "source": [
    "from sklearn.ensemble import AdaBoostRegressor\n",
    "parameters = {\"n_estimators\": [50, 80,100, 150,200],\"loss\": [\"linear\", \"square\", \"exponential\"]}\n",
    "ada_reg_grid = AdaBoostRegressor(random_state=42) \n",
    "\n",
    "m3 = GridSearchCV(estimator = ada_reg_grid,\n",
    "                  param_grid = parameters,\n",
    "                  n_jobs = -1, cv=10)\n",
    "\n",
    "m3.fit(X_train_scal, y_train)"
   ]
  },
  {
   "cell_type": "code",
   "execution_count": 114,
   "metadata": {},
   "outputs": [
    {
     "name": "stdout",
     "output_type": "stream",
     "text": [
      "AdaBoostRegressor(random_state=42)\n",
      "0.36214286827831677\n",
      "{'loss': 'linear', 'n_estimators': 50}\n"
     ]
    }
   ],
   "source": [
    "print(m3.best_estimator_)\n",
    "print(m3.best_score_)\n",
    "print(m3.best_params_)"
   ]
  },
  {
   "cell_type": "code",
   "execution_count": 115,
   "metadata": {},
   "outputs": [
    {
     "name": "stdout",
     "output_type": "stream",
     "text": [
      "MAE: 0.7056242569251362\n",
      "MSE: 0.7803181398451802\n",
      "RMSE: 0.8833561794911383\n",
      "R2 score: 0.36247099522770776\n"
     ]
    }
   ],
   "source": [
    "print('MAE:', metrics.mean_absolute_error(y_test, m3.predict(X_test_scal)))\n",
    "print('MSE:', metrics.mean_squared_error(y_test, m3.predict(X_test_scal)))\n",
    "print('RMSE:', np.sqrt(metrics.mean_squared_error(y_test,m3.predict(X_test_scal))))\n",
    "print(\"R2 score:\", r2_score(y_test,m3.predict(X_test_scal)))"
   ]
  },
  {
   "cell_type": "markdown",
   "metadata": {},
   "source": [
    "#### Modelo polinómico"
   ]
  },
  {
   "cell_type": "code",
   "execution_count": 163,
   "metadata": {},
   "outputs": [],
   "source": [
    "from sklearn.preprocessing import PolynomialFeatures\n",
    "poly_feats = PolynomialFeatures(degree = 2)\n",
    "#Ajustar a nuestros datos, aquí no estamos entrenando nada\n",
    "poly_feats.fit(X_train_scal)\n",
    "X_poly_train = poly_feats.transform(X_train_scal)\n",
    "from sklearn.linear_model import LinearRegression\n",
    "pol_reg = LinearRegression()\n",
    "pol_reg.fit(X_poly_train, y_train)\n",
    "X_poly_test = poly_feats.transform(X_test_scal)\n",
    "predictions_dos = pol_reg.predict(X_poly_test)"
   ]
  },
  {
   "cell_type": "code",
   "execution_count": 164,
   "metadata": {},
   "outputs": [
    {
     "name": "stdout",
     "output_type": "stream",
     "text": [
      "MAE: 0.6808279541505309\n",
      "MSE: 0.8009124036771923\n",
      "RMSE: 0.8949370948157152\n",
      "R2 score: 0.3456452419170828\n"
     ]
    }
   ],
   "source": [
    "print('MAE:', metrics.mean_absolute_error(y_test, predictions_dos))\n",
    "print('MSE:', metrics.mean_squared_error(y_test, predictions_dos))\n",
    "print('RMSE:', np.sqrt(metrics.mean_squared_error(y_test, predictions_dos)))\n",
    "print(\"R2 score:\", r2_score(y_test,predictions_dos))"
   ]
  },
  {
   "cell_type": "markdown",
   "metadata": {},
   "source": [
    "#### Modelo Gradient Boosting Regressor"
   ]
  },
  {
   "cell_type": "code",
   "execution_count": 127,
   "metadata": {},
   "outputs": [
    {
     "data": {
      "text/plain": [
       "GradientBoostingRegressor()"
      ]
     },
     "execution_count": 127,
     "metadata": {},
     "output_type": "execute_result"
    }
   ],
   "source": [
    "from sklearn.ensemble import GradientBoostingRegressor\n",
    "\n",
    "gbr = GradientBoostingRegressor(n_estimators=100)\n",
    "gbr.fit(X_train_scal, y_train)"
   ]
  },
  {
   "cell_type": "code",
   "execution_count": 128,
   "metadata": {},
   "outputs": [
    {
     "name": "stdout",
     "output_type": "stream",
     "text": [
      "MAE: 0.5492095462129278\n",
      "MSE: 0.5812564515331319\n",
      "RMSE: 0.7624017651692131\n",
      "R2 score: 0.5251067120688562\n"
     ]
    }
   ],
   "source": [
    "print('MAE:', metrics.mean_absolute_error(y_test, gbr.predict(X_test_scal)))\n",
    "print('MSE:', metrics.mean_squared_error(y_test, gbr.predict(X_test_scal)))\n",
    "print('RMSE:', np.sqrt(metrics.mean_squared_error(y_test, gbr.predict(X_test_scal))))\n",
    "print(\"R2 score:\", r2_score(y_test,gbr.predict(X_test_scal)))"
   ]
  },
  {
   "cell_type": "markdown",
   "metadata": {},
   "source": [
    "#### Modelo de Regresión Lineal"
   ]
  },
  {
   "cell_type": "code",
   "execution_count": 160,
   "metadata": {},
   "outputs": [
    {
     "name": "stdout",
     "output_type": "stream",
     "text": [
      "MAE: 0.7251154613254811\n",
      "MSE: 0.8895744730107603\n",
      "RMSE: 0.9431725573884984\n",
      "R2 score: 0.27320729906149765\n"
     ]
    }
   ],
   "source": [
    "from sklearn.linear_model import LinearRegression\n",
    "lm = LinearRegression()\n",
    "lm.fit(X_train_scal, y_train)\n",
    "print('MAE:', metrics.mean_absolute_error(y_test,lm.predict(X_test_scal)))\n",
    "print('MSE:', metrics.mean_squared_error(y_test, lm.predict(X_test_scal)))\n",
    "print('RMSE:', np.sqrt(metrics.mean_squared_error(y_test, lm.predict(X_test_scal))))\n",
    "print(\"R2 score:\", r2_score(y_test,lm.predict(X_test_scal)))"
   ]
  },
  {
   "cell_type": "code",
   "execution_count": 162,
   "metadata": {},
   "outputs": [
    {
     "name": "stderr",
     "output_type": "stream",
     "text": [
      "C:\\Users\\carlo\\AppData\\Local\\Programs\\Python\\Python37\\lib\\site-packages\\seaborn\\_decorators.py:43: FutureWarning: Pass the following variables as keyword args: x, y. From version 0.12, the only valid positional argument will be `data`, and passing other arguments without an explicit keyword will result in an error or misinterpretation.\n",
      "  FutureWarning\n"
     ]
    },
    {
     "data": {
      "image/png": "[encoded data removed]",
      "text/plain": [
       "<Figure size 1000x600 with 1 Axes>"
      ]
     },
     "metadata": {
      "needs_background": "light"
     },
     "output_type": "display_data"
    }
   ],
   "source": [
    "plt.figure(figsize=(10,6), dpi=100)\n",
    "sns.scatterplot(y_test, lm.predict(X_test_scal));\n",
    "plt.xlabel('Predicciones', fontsize=20)\n",
    "plt.ylabel('Valor de Test')\n",
    "plt.title(\"Modelo de Regresión Lineal\", size=17, color=\"Black\");\n",
    "plt.show()"
   ]
  },
  {
   "cell_type": "code",
   "execution_count": 124,
   "metadata": {},
   "outputs": [
    {
     "data": {
      "text/html": [
       "<div>\n",
       "<style scoped>\n",
       "    .dataframe tbody tr th:only-of-type {\n",
       "        vertical-align: middle;\n",
       "    }\n",
       "\n",
       "    .dataframe tbody tr th {\n",
       "        vertical-align: top;\n",
       "    }\n",
       "\n",
       "    .dataframe thead th {\n",
       "        text-align: right;\n",
       "    }\n",
       "</style>\n",
       "<table border=\"1\" class=\"dataframe\">\n",
       "  <thead>\n",
       "    <tr style=\"text-align: right;\">\n",
       "      <th></th>\n",
       "      <th>Number of Travellers</th>\n",
       "      <th>Total Cost ex VAT</th>\n",
       "      <th>Travel Class</th>\n",
       "      <th>day</th>\n",
       "      <th>month</th>\n",
       "      <th>year</th>\n",
       "      <th>Journey Finish Point_le</th>\n",
       "      <th>Journey Start Point_le</th>\n",
       "      <th>Air Carrier_le</th>\n",
       "    </tr>\n",
       "  </thead>\n",
       "  <tbody>\n",
       "    <tr>\n",
       "      <th>0</th>\n",
       "      <td>1</td>\n",
       "      <td>81.52</td>\n",
       "      <td>0</td>\n",
       "      <td>10</td>\n",
       "      <td>2</td>\n",
       "      <td>2011</td>\n",
       "      <td>109</td>\n",
       "      <td>39</td>\n",
       "      <td>32</td>\n",
       "    </tr>\n",
       "    <tr>\n",
       "      <th>1</th>\n",
       "      <td>1</td>\n",
       "      <td>217.14</td>\n",
       "      <td>0</td>\n",
       "      <td>29</td>\n",
       "      <td>3</td>\n",
       "      <td>2011</td>\n",
       "      <td>122</td>\n",
       "      <td>58</td>\n",
       "      <td>28</td>\n",
       "    </tr>\n",
       "    <tr>\n",
       "      <th>2</th>\n",
       "      <td>1</td>\n",
       "      <td>7969.20</td>\n",
       "      <td>2</td>\n",
       "      <td>7</td>\n",
       "      <td>4</td>\n",
       "      <td>2011</td>\n",
       "      <td>166</td>\n",
       "      <td>59</td>\n",
       "      <td>17</td>\n",
       "    </tr>\n",
       "    <tr>\n",
       "      <th>3</th>\n",
       "      <td>1</td>\n",
       "      <td>272.82</td>\n",
       "      <td>2</td>\n",
       "      <td>7</td>\n",
       "      <td>4</td>\n",
       "      <td>2011</td>\n",
       "      <td>66</td>\n",
       "      <td>58</td>\n",
       "      <td>17</td>\n",
       "    </tr>\n",
       "    <tr>\n",
       "      <th>4</th>\n",
       "      <td>1</td>\n",
       "      <td>7969.20</td>\n",
       "      <td>2</td>\n",
       "      <td>7</td>\n",
       "      <td>4</td>\n",
       "      <td>2011</td>\n",
       "      <td>166</td>\n",
       "      <td>59</td>\n",
       "      <td>17</td>\n",
       "    </tr>\n",
       "    <tr>\n",
       "      <th>...</th>\n",
       "      <td>...</td>\n",
       "      <td>...</td>\n",
       "      <td>...</td>\n",
       "      <td>...</td>\n",
       "      <td>...</td>\n",
       "      <td>...</td>\n",
       "      <td>...</td>\n",
       "      <td>...</td>\n",
       "      <td>...</td>\n",
       "    </tr>\n",
       "    <tr>\n",
       "      <th>2950</th>\n",
       "      <td>1</td>\n",
       "      <td>71.49</td>\n",
       "      <td>0</td>\n",
       "      <td>18</td>\n",
       "      <td>11</td>\n",
       "      <td>2011</td>\n",
       "      <td>31</td>\n",
       "      <td>9</td>\n",
       "      <td>32</td>\n",
       "    </tr>\n",
       "    <tr>\n",
       "      <th>2951</th>\n",
       "      <td>1</td>\n",
       "      <td>31.94</td>\n",
       "      <td>0</td>\n",
       "      <td>18</td>\n",
       "      <td>11</td>\n",
       "      <td>2011</td>\n",
       "      <td>19</td>\n",
       "      <td>16</td>\n",
       "      <td>28</td>\n",
       "    </tr>\n",
       "    <tr>\n",
       "      <th>2952</th>\n",
       "      <td>1</td>\n",
       "      <td>267.40</td>\n",
       "      <td>0</td>\n",
       "      <td>22</td>\n",
       "      <td>11</td>\n",
       "      <td>2011</td>\n",
       "      <td>110</td>\n",
       "      <td>53</td>\n",
       "      <td>35</td>\n",
       "    </tr>\n",
       "    <tr>\n",
       "      <th>2953</th>\n",
       "      <td>1</td>\n",
       "      <td>215.10</td>\n",
       "      <td>0</td>\n",
       "      <td>29</td>\n",
       "      <td>11</td>\n",
       "      <td>2011</td>\n",
       "      <td>117</td>\n",
       "      <td>53</td>\n",
       "      <td>35</td>\n",
       "    </tr>\n",
       "    <tr>\n",
       "      <th>2954</th>\n",
       "      <td>1</td>\n",
       "      <td>103.30</td>\n",
       "      <td>0</td>\n",
       "      <td>30</td>\n",
       "      <td>11</td>\n",
       "      <td>2011</td>\n",
       "      <td>79</td>\n",
       "      <td>59</td>\n",
       "      <td>17</td>\n",
       "    </tr>\n",
       "  </tbody>\n",
       "</table>\n",
       "<p>2955 rows × 9 columns</p>\n",
       "</div>"
      ],
      "text/plain": [
       "      Number of Travellers   Total Cost ex VAT   Travel Class  day  month  \\\n",
       "0                        1                81.52             0   10      2   \n",
       "1                        1               217.14             0   29      3   \n",
       "2                        1              7969.20             2    7      4   \n",
       "3                        1               272.82             2    7      4   \n",
       "4                        1              7969.20             2    7      4   \n",
       "...                    ...                  ...           ...  ...    ...   \n",
       "2950                     1                71.49             0   18     11   \n",
       "2951                     1                31.94             0   18     11   \n",
       "2952                     1               267.40             0   22     11   \n",
       "2953                     1               215.10             0   29     11   \n",
       "2954                     1               103.30             0   30     11   \n",
       "\n",
       "      year  Journey Finish Point_le  Journey Start Point_le  Air Carrier_le  \n",
       "0     2011                      109                      39              32  \n",
       "1     2011                      122                      58              28  \n",
       "2     2011                      166                      59              17  \n",
       "3     2011                       66                      58              17  \n",
       "4     2011                      166                      59              17  \n",
       "...    ...                      ...                     ...             ...  \n",
       "2950  2011                       31                       9              32  \n",
       "2951  2011                       19                      16              28  \n",
       "2952  2011                      110                      53              35  \n",
       "2953  2011                      117                      53              35  \n",
       "2954  2011                       79                      59              17  \n",
       "\n",
       "[2955 rows x 9 columns]"
      ]
     },
     "execution_count": 124,
     "metadata": {},
     "output_type": "execute_result"
    }
   ],
   "source": [
    "df1"
   ]
  },
  {
   "cell_type": "markdown",
   "metadata": {},
   "source": [
    "#### Borrar columnas number of travellers y year, que tienen valores únicos."
   ]
  },
  {
   "cell_type": "code",
   "execution_count": 149,
   "metadata": {},
   "outputs": [
    {
     "data": {
      "text/html": [
       "<div>\n",
       "<style scoped>\n",
       "    .dataframe tbody tr th:only-of-type {\n",
       "        vertical-align: middle;\n",
       "    }\n",
       "\n",
       "    .dataframe tbody tr th {\n",
       "        vertical-align: top;\n",
       "    }\n",
       "\n",
       "    .dataframe thead th {\n",
       "        text-align: right;\n",
       "    }\n",
       "</style>\n",
       "<table border=\"1\" class=\"dataframe\">\n",
       "  <thead>\n",
       "    <tr style=\"text-align: right;\">\n",
       "      <th></th>\n",
       "      <th>Total Cost ex VAT</th>\n",
       "      <th>Travel Class</th>\n",
       "      <th>day</th>\n",
       "      <th>month</th>\n",
       "      <th>Journey Finish Point_le</th>\n",
       "      <th>Journey Start Point_le</th>\n",
       "      <th>Air Carrier_le</th>\n",
       "    </tr>\n",
       "  </thead>\n",
       "  <tbody>\n",
       "    <tr>\n",
       "      <th>0</th>\n",
       "      <td>81.52</td>\n",
       "      <td>0</td>\n",
       "      <td>10</td>\n",
       "      <td>2</td>\n",
       "      <td>109</td>\n",
       "      <td>39</td>\n",
       "      <td>32</td>\n",
       "    </tr>\n",
       "    <tr>\n",
       "      <th>1</th>\n",
       "      <td>217.14</td>\n",
       "      <td>0</td>\n",
       "      <td>29</td>\n",
       "      <td>3</td>\n",
       "      <td>122</td>\n",
       "      <td>58</td>\n",
       "      <td>28</td>\n",
       "    </tr>\n",
       "    <tr>\n",
       "      <th>2</th>\n",
       "      <td>7969.20</td>\n",
       "      <td>2</td>\n",
       "      <td>7</td>\n",
       "      <td>4</td>\n",
       "      <td>166</td>\n",
       "      <td>59</td>\n",
       "      <td>17</td>\n",
       "    </tr>\n",
       "    <tr>\n",
       "      <th>3</th>\n",
       "      <td>272.82</td>\n",
       "      <td>2</td>\n",
       "      <td>7</td>\n",
       "      <td>4</td>\n",
       "      <td>66</td>\n",
       "      <td>58</td>\n",
       "      <td>17</td>\n",
       "    </tr>\n",
       "    <tr>\n",
       "      <th>4</th>\n",
       "      <td>7969.20</td>\n",
       "      <td>2</td>\n",
       "      <td>7</td>\n",
       "      <td>4</td>\n",
       "      <td>166</td>\n",
       "      <td>59</td>\n",
       "      <td>17</td>\n",
       "    </tr>\n",
       "    <tr>\n",
       "      <th>...</th>\n",
       "      <td>...</td>\n",
       "      <td>...</td>\n",
       "      <td>...</td>\n",
       "      <td>...</td>\n",
       "      <td>...</td>\n",
       "      <td>...</td>\n",
       "      <td>...</td>\n",
       "    </tr>\n",
       "    <tr>\n",
       "      <th>2950</th>\n",
       "      <td>71.49</td>\n",
       "      <td>0</td>\n",
       "      <td>18</td>\n",
       "      <td>11</td>\n",
       "      <td>31</td>\n",
       "      <td>9</td>\n",
       "      <td>32</td>\n",
       "    </tr>\n",
       "    <tr>\n",
       "      <th>2951</th>\n",
       "      <td>31.94</td>\n",
       "      <td>0</td>\n",
       "      <td>18</td>\n",
       "      <td>11</td>\n",
       "      <td>19</td>\n",
       "      <td>16</td>\n",
       "      <td>28</td>\n",
       "    </tr>\n",
       "    <tr>\n",
       "      <th>2952</th>\n",
       "      <td>267.40</td>\n",
       "      <td>0</td>\n",
       "      <td>22</td>\n",
       "      <td>11</td>\n",
       "      <td>110</td>\n",
       "      <td>53</td>\n",
       "      <td>35</td>\n",
       "    </tr>\n",
       "    <tr>\n",
       "      <th>2953</th>\n",
       "      <td>215.10</td>\n",
       "      <td>0</td>\n",
       "      <td>29</td>\n",
       "      <td>11</td>\n",
       "      <td>117</td>\n",
       "      <td>53</td>\n",
       "      <td>35</td>\n",
       "    </tr>\n",
       "    <tr>\n",
       "      <th>2954</th>\n",
       "      <td>103.30</td>\n",
       "      <td>0</td>\n",
       "      <td>30</td>\n",
       "      <td>11</td>\n",
       "      <td>79</td>\n",
       "      <td>59</td>\n",
       "      <td>17</td>\n",
       "    </tr>\n",
       "  </tbody>\n",
       "</table>\n",
       "<p>2955 rows × 7 columns</p>\n",
       "</div>"
      ],
      "text/plain": [
       "       Total Cost ex VAT   Travel Class  day  month  Journey Finish Point_le  \\\n",
       "0                   81.52             0   10      2                      109   \n",
       "1                  217.14             0   29      3                      122   \n",
       "2                 7969.20             2    7      4                      166   \n",
       "3                  272.82             2    7      4                       66   \n",
       "4                 7969.20             2    7      4                      166   \n",
       "...                   ...           ...  ...    ...                      ...   \n",
       "2950                71.49             0   18     11                       31   \n",
       "2951                31.94             0   18     11                       19   \n",
       "2952               267.40             0   22     11                      110   \n",
       "2953               215.10             0   29     11                      117   \n",
       "2954               103.30             0   30     11                       79   \n",
       "\n",
       "      Journey Start Point_le  Air Carrier_le  \n",
       "0                         39              32  \n",
       "1                         58              28  \n",
       "2                         59              17  \n",
       "3                         58              17  \n",
       "4                         59              17  \n",
       "...                      ...             ...  \n",
       "2950                       9              32  \n",
       "2951                      16              28  \n",
       "2952                      53              35  \n",
       "2953                      53              35  \n",
       "2954                      59              17  \n",
       "\n",
       "[2955 rows x 7 columns]"
      ]
     },
     "execution_count": 149,
     "metadata": {},
     "output_type": "execute_result"
    }
   ],
   "source": [
    "df2"
   ]
  },
  {
   "cell_type": "markdown",
   "metadata": {},
   "source": [
    "#### Guardar csv limpio, elegido para el modelo."
   ]
  },
  {
   "cell_type": "code",
   "execution_count": 175,
   "metadata": {},
   "outputs": [
    {
     "data": {
      "text/html": [
       "<div>\n",
       "<style scoped>\n",
       "    .dataframe tbody tr th:only-of-type {\n",
       "        vertical-align: middle;\n",
       "    }\n",
       "\n",
       "    .dataframe tbody tr th {\n",
       "        vertical-align: top;\n",
       "    }\n",
       "\n",
       "    .dataframe thead th {\n",
       "        text-align: right;\n",
       "    }\n",
       "</style>\n",
       "<table border=\"1\" class=\"dataframe\">\n",
       "  <thead>\n",
       "    <tr style=\"text-align: right;\">\n",
       "      <th></th>\n",
       "      <th>Total Cost ex VAT</th>\n",
       "      <th>Travel Class</th>\n",
       "      <th>day</th>\n",
       "      <th>month</th>\n",
       "      <th>Journey Finish Point_le</th>\n",
       "      <th>Journey Start Point_le</th>\n",
       "      <th>Air Carrier_le</th>\n",
       "    </tr>\n",
       "  </thead>\n",
       "  <tbody>\n",
       "    <tr>\n",
       "      <th>0</th>\n",
       "      <td>81.52</td>\n",
       "      <td>0</td>\n",
       "      <td>10</td>\n",
       "      <td>2</td>\n",
       "      <td>109</td>\n",
       "      <td>39</td>\n",
       "      <td>32</td>\n",
       "    </tr>\n",
       "    <tr>\n",
       "      <th>1</th>\n",
       "      <td>217.14</td>\n",
       "      <td>0</td>\n",
       "      <td>29</td>\n",
       "      <td>3</td>\n",
       "      <td>122</td>\n",
       "      <td>58</td>\n",
       "      <td>28</td>\n",
       "    </tr>\n",
       "    <tr>\n",
       "      <th>2</th>\n",
       "      <td>7969.20</td>\n",
       "      <td>2</td>\n",
       "      <td>7</td>\n",
       "      <td>4</td>\n",
       "      <td>166</td>\n",
       "      <td>59</td>\n",
       "      <td>17</td>\n",
       "    </tr>\n",
       "    <tr>\n",
       "      <th>3</th>\n",
       "      <td>272.82</td>\n",
       "      <td>2</td>\n",
       "      <td>7</td>\n",
       "      <td>4</td>\n",
       "      <td>66</td>\n",
       "      <td>58</td>\n",
       "      <td>17</td>\n",
       "    </tr>\n",
       "    <tr>\n",
       "      <th>4</th>\n",
       "      <td>7969.20</td>\n",
       "      <td>2</td>\n",
       "      <td>7</td>\n",
       "      <td>4</td>\n",
       "      <td>166</td>\n",
       "      <td>59</td>\n",
       "      <td>17</td>\n",
       "    </tr>\n",
       "    <tr>\n",
       "      <th>...</th>\n",
       "      <td>...</td>\n",
       "      <td>...</td>\n",
       "      <td>...</td>\n",
       "      <td>...</td>\n",
       "      <td>...</td>\n",
       "      <td>...</td>\n",
       "      <td>...</td>\n",
       "    </tr>\n",
       "    <tr>\n",
       "      <th>2950</th>\n",
       "      <td>71.49</td>\n",
       "      <td>0</td>\n",
       "      <td>18</td>\n",
       "      <td>11</td>\n",
       "      <td>31</td>\n",
       "      <td>9</td>\n",
       "      <td>32</td>\n",
       "    </tr>\n",
       "    <tr>\n",
       "      <th>2951</th>\n",
       "      <td>31.94</td>\n",
       "      <td>0</td>\n",
       "      <td>18</td>\n",
       "      <td>11</td>\n",
       "      <td>19</td>\n",
       "      <td>16</td>\n",
       "      <td>28</td>\n",
       "    </tr>\n",
       "    <tr>\n",
       "      <th>2952</th>\n",
       "      <td>267.40</td>\n",
       "      <td>0</td>\n",
       "      <td>22</td>\n",
       "      <td>11</td>\n",
       "      <td>110</td>\n",
       "      <td>53</td>\n",
       "      <td>35</td>\n",
       "    </tr>\n",
       "    <tr>\n",
       "      <th>2953</th>\n",
       "      <td>215.10</td>\n",
       "      <td>0</td>\n",
       "      <td>29</td>\n",
       "      <td>11</td>\n",
       "      <td>117</td>\n",
       "      <td>53</td>\n",
       "      <td>35</td>\n",
       "    </tr>\n",
       "    <tr>\n",
       "      <th>2954</th>\n",
       "      <td>103.30</td>\n",
       "      <td>0</td>\n",
       "      <td>30</td>\n",
       "      <td>11</td>\n",
       "      <td>79</td>\n",
       "      <td>59</td>\n",
       "      <td>17</td>\n",
       "    </tr>\n",
       "  </tbody>\n",
       "</table>\n",
       "<p>2955 rows × 7 columns</p>\n",
       "</div>"
      ],
      "text/plain": [
       "       Total Cost ex VAT   Travel Class  day  month  Journey Finish Point_le  \\\n",
       "0                   81.52             0   10      2                      109   \n",
       "1                  217.14             0   29      3                      122   \n",
       "2                 7969.20             2    7      4                      166   \n",
       "3                  272.82             2    7      4                       66   \n",
       "4                 7969.20             2    7      4                      166   \n",
       "...                   ...           ...  ...    ...                      ...   \n",
       "2950                71.49             0   18     11                       31   \n",
       "2951                31.94             0   18     11                       19   \n",
       "2952               267.40             0   22     11                      110   \n",
       "2953               215.10             0   29     11                      117   \n",
       "2954               103.30             0   30     11                       79   \n",
       "\n",
       "      Journey Start Point_le  Air Carrier_le  \n",
       "0                         39              32  \n",
       "1                         58              28  \n",
       "2                         59              17  \n",
       "3                         58              17  \n",
       "4                         59              17  \n",
       "...                      ...             ...  \n",
       "2950                       9              32  \n",
       "2951                      16              28  \n",
       "2952                      53              35  \n",
       "2953                      53              35  \n",
       "2954                      59              17  \n",
       "\n",
       "[2955 rows x 7 columns]"
      ]
     },
     "execution_count": 175,
     "metadata": {},
     "output_type": "execute_result"
    }
   ],
   "source": [
    "df2"
   ]
  },
  {
   "cell_type": "code",
   "execution_count": 199,
   "metadata": {},
   "outputs": [
    {
     "data": {
      "text/html": [
       "<div>\n",
       "<style scoped>\n",
       "    .dataframe tbody tr th:only-of-type {\n",
       "        vertical-align: middle;\n",
       "    }\n",
       "\n",
       "    .dataframe tbody tr th {\n",
       "        vertical-align: top;\n",
       "    }\n",
       "\n",
       "    .dataframe thead th {\n",
       "        text-align: right;\n",
       "    }\n",
       "</style>\n",
       "<table border=\"1\" class=\"dataframe\">\n",
       "  <thead>\n",
       "    <tr style=\"text-align: right;\">\n",
       "      <th></th>\n",
       "      <th>Unnamed: 0</th>\n",
       "      <th>Total Cost ex VAT</th>\n",
       "      <th>Travel Class</th>\n",
       "      <th>day</th>\n",
       "      <th>month</th>\n",
       "      <th>Journey Finish Point_le</th>\n",
       "      <th>Journey Start Point_le</th>\n",
       "      <th>Air Carrier_le</th>\n",
       "    </tr>\n",
       "  </thead>\n",
       "  <tbody>\n",
       "    <tr>\n",
       "      <th>0</th>\n",
       "      <td>0</td>\n",
       "      <td>81.52</td>\n",
       "      <td>0</td>\n",
       "      <td>10</td>\n",
       "      <td>2</td>\n",
       "      <td>109</td>\n",
       "      <td>39</td>\n",
       "      <td>32</td>\n",
       "    </tr>\n",
       "    <tr>\n",
       "      <th>1</th>\n",
       "      <td>1</td>\n",
       "      <td>217.14</td>\n",
       "      <td>0</td>\n",
       "      <td>29</td>\n",
       "      <td>3</td>\n",
       "      <td>122</td>\n",
       "      <td>58</td>\n",
       "      <td>28</td>\n",
       "    </tr>\n",
       "    <tr>\n",
       "      <th>2</th>\n",
       "      <td>2</td>\n",
       "      <td>7969.20</td>\n",
       "      <td>2</td>\n",
       "      <td>7</td>\n",
       "      <td>4</td>\n",
       "      <td>166</td>\n",
       "      <td>59</td>\n",
       "      <td>17</td>\n",
       "    </tr>\n",
       "    <tr>\n",
       "      <th>3</th>\n",
       "      <td>3</td>\n",
       "      <td>272.82</td>\n",
       "      <td>2</td>\n",
       "      <td>7</td>\n",
       "      <td>4</td>\n",
       "      <td>66</td>\n",
       "      <td>58</td>\n",
       "      <td>17</td>\n",
       "    </tr>\n",
       "    <tr>\n",
       "      <th>4</th>\n",
       "      <td>4</td>\n",
       "      <td>7969.20</td>\n",
       "      <td>2</td>\n",
       "      <td>7</td>\n",
       "      <td>4</td>\n",
       "      <td>166</td>\n",
       "      <td>59</td>\n",
       "      <td>17</td>\n",
       "    </tr>\n",
       "    <tr>\n",
       "      <th>...</th>\n",
       "      <td>...</td>\n",
       "      <td>...</td>\n",
       "      <td>...</td>\n",
       "      <td>...</td>\n",
       "      <td>...</td>\n",
       "      <td>...</td>\n",
       "      <td>...</td>\n",
       "      <td>...</td>\n",
       "    </tr>\n",
       "    <tr>\n",
       "      <th>2950</th>\n",
       "      <td>2950</td>\n",
       "      <td>71.49</td>\n",
       "      <td>0</td>\n",
       "      <td>18</td>\n",
       "      <td>11</td>\n",
       "      <td>31</td>\n",
       "      <td>9</td>\n",
       "      <td>32</td>\n",
       "    </tr>\n",
       "    <tr>\n",
       "      <th>2951</th>\n",
       "      <td>2951</td>\n",
       "      <td>31.94</td>\n",
       "      <td>0</td>\n",
       "      <td>18</td>\n",
       "      <td>11</td>\n",
       "      <td>19</td>\n",
       "      <td>16</td>\n",
       "      <td>28</td>\n",
       "    </tr>\n",
       "    <tr>\n",
       "      <th>2952</th>\n",
       "      <td>2952</td>\n",
       "      <td>267.40</td>\n",
       "      <td>0</td>\n",
       "      <td>22</td>\n",
       "      <td>11</td>\n",
       "      <td>110</td>\n",
       "      <td>53</td>\n",
       "      <td>35</td>\n",
       "    </tr>\n",
       "    <tr>\n",
       "      <th>2953</th>\n",
       "      <td>2953</td>\n",
       "      <td>215.10</td>\n",
       "      <td>0</td>\n",
       "      <td>29</td>\n",
       "      <td>11</td>\n",
       "      <td>117</td>\n",
       "      <td>53</td>\n",
       "      <td>35</td>\n",
       "    </tr>\n",
       "    <tr>\n",
       "      <th>2954</th>\n",
       "      <td>2954</td>\n",
       "      <td>103.30</td>\n",
       "      <td>0</td>\n",
       "      <td>30</td>\n",
       "      <td>11</td>\n",
       "      <td>79</td>\n",
       "      <td>59</td>\n",
       "      <td>17</td>\n",
       "    </tr>\n",
       "  </tbody>\n",
       "</table>\n",
       "<p>2955 rows × 8 columns</p>\n",
       "</div>"
      ],
      "text/plain": [
       "      Unnamed: 0   Total Cost ex VAT   Travel Class  day  month  \\\n",
       "0              0                81.52             0   10      2   \n",
       "1              1               217.14             0   29      3   \n",
       "2              2              7969.20             2    7      4   \n",
       "3              3               272.82             2    7      4   \n",
       "4              4              7969.20             2    7      4   \n",
       "...          ...                  ...           ...  ...    ...   \n",
       "2950        2950                71.49             0   18     11   \n",
       "2951        2951                31.94             0   18     11   \n",
       "2952        2952               267.40             0   22     11   \n",
       "2953        2953               215.10             0   29     11   \n",
       "2954        2954               103.30             0   30     11   \n",
       "\n",
       "      Journey Finish Point_le  Journey Start Point_le  Air Carrier_le  \n",
       "0                         109                      39              32  \n",
       "1                         122                      58              28  \n",
       "2                         166                      59              17  \n",
       "3                          66                      58              17  \n",
       "4                         166                      59              17  \n",
       "...                       ...                     ...             ...  \n",
       "2950                       31                       9              32  \n",
       "2951                       19                      16              28  \n",
       "2952                      110                      53              35  \n",
       "2953                      117                      53              35  \n",
       "2954                       79                      59              17  \n",
       "\n",
       "[2955 rows x 8 columns]"
      ]
     },
     "execution_count": 199,
     "metadata": {},
     "output_type": "execute_result"
    }
   ],
   "source": [
    "df_procesado = pd.read_csv('..\\\\data\\\\processed\\\\dataframe_limpio.csv')\n",
    "df_procesado"
   ]
  },
  {
   "cell_type": "code",
   "execution_count": 152,
   "metadata": {},
   "outputs": [],
   "source": [
    "df2.to_csv(\"..\\\\data\\\\processed\\\\dataframe_limpio.csv\")"
   ]
  },
  {
   "cell_type": "code",
   "execution_count": 125,
   "metadata": {},
   "outputs": [],
   "source": [
    "#Borrar columnas month y year, que tienen correlacionas bajas con el target\n",
    "df2=df1.drop([\"Number of Travellers\",\"year\"],axis=1)"
   ]
  },
  {
   "cell_type": "code",
   "execution_count": 126,
   "metadata": {},
   "outputs": [],
   "source": [
    "df2_log=np.log(df2+1)"
   ]
  },
  {
   "cell_type": "code",
   "execution_count": 130,
   "metadata": {},
   "outputs": [],
   "source": [
    "X2=df2_log.drop(\" Total Cost ex VAT \",axis=1)\n",
    "y2=df2_log[\" Total Cost ex VAT \"]\n",
    "from sklearn.model_selection import train_test_split\n",
    "X2_train, X2_test, y2_train, y2_test =  train_test_split(X2, y2, test_size = 0.20, random_state = 42)"
   ]
  },
  {
   "cell_type": "code",
   "execution_count": 131,
   "metadata": {},
   "outputs": [],
   "source": [
    "from sklearn import preprocessing\n",
    "std_scale2 = preprocessing.StandardScaler().fit(X2_train)\n",
    "X2_train_scal = std_scale2.transform(X2_train)\n",
    "X2_test_scal = std_scale2.transform(X2_test)"
   ]
  },
  {
   "cell_type": "code",
   "execution_count": 132,
   "metadata": {},
   "outputs": [
    {
     "data": {
      "text/plain": [
       "GridSearchCV(cv=10, estimator=RandomForestRegressor(random_state=42), n_jobs=-1,\n",
       "             param_grid={'max_depth': [50, 100, 150, 200],\n",
       "                         'max_features': [1, 2, 3],\n",
       "                         'n_estimators': [10, 100, 1000]})"
      ]
     },
     "execution_count": 132,
     "metadata": {},
     "output_type": "execute_result"
    }
   ],
   "source": [
    "from sklearn.model_selection import GridSearchCV\n",
    "parameters = {\"n_estimators\": [10, 100, 1000],\n",
    "    \"max_features\": [1,2,3], \"max_depth\": [50,100,150,200]}\n",
    "\n",
    "rnd_reg_grid2 = RandomForestRegressor(random_state=42)\n",
    "\n",
    "m4 = GridSearchCV(estimator = rnd_reg_grid2,\n",
    "                  param_grid = parameters,\n",
    "                  n_jobs = -1, cv=10)\n",
    "\n",
    "m4.fit(X2_train_scal, y2_train)"
   ]
  },
  {
   "cell_type": "code",
   "execution_count": 133,
   "metadata": {},
   "outputs": [
    {
     "name": "stdout",
     "output_type": "stream",
     "text": [
      "RandomForestRegressor(max_depth=50, max_features=2, n_estimators=1000,\n",
      "                      random_state=42)\n",
      "0.6207151287822542\n",
      "{'max_depth': 50, 'max_features': 2, 'n_estimators': 1000}\n"
     ]
    }
   ],
   "source": [
    "print(m4.best_estimator_)\n",
    "print(m4.best_score_)\n",
    "print(m4.best_params_)"
   ]
  },
  {
   "cell_type": "code",
   "execution_count": 179,
   "metadata": {},
   "outputs": [
    {
     "name": "stdout",
     "output_type": "stream",
     "text": [
      "MAE: 0.46907967737065354\n",
      "MSE: 0.5090198892372932\n",
      "RMSE: 0.7134562980570661\n",
      "R2 score: 0.5841248244477057\n"
     ]
    }
   ],
   "source": [
    "print('MAE:', metrics.mean_absolute_error(y2_test, m4.predict(X2_test_scal)))\n",
    "print('MSE:', metrics.mean_squared_error(y2_test, m4.predict(X2_test_scal)))\n",
    "print('RMSE:', np.sqrt(metrics.mean_squared_error(y2_test,m4.predict(X2_test_scal))))\n",
    "print(\"R2 score:\", r2_score(y2_test,m4.predict(X2_test_scal)))"
   ]
  },
  {
   "cell_type": "code",
   "execution_count": 135,
   "metadata": {},
   "outputs": [
    {
     "data": {
      "text/plain": [
       "RandomForestRegressor(max_depth=50, n_estimators=1000, random_state=42)"
      ]
     },
     "execution_count": 135,
     "metadata": {},
     "output_type": "execute_result"
    }
   ],
   "source": [
    "from sklearn.ensemble import RandomForestRegressor\n",
    "forest = RandomForestRegressor(random_state=42,max_depth=50,n_estimators=1000)\n",
    "\n",
    "\n",
    "forest.fit(X2_train_scal, y2_train)"
   ]
  },
  {
   "cell_type": "code",
   "execution_count": 186,
   "metadata": {},
   "outputs": [
    {
     "data": {
      "text/plain": [
       "array([[-0.44272306, -0.49130164, -1.27825591,  0.10620049,  0.82993009,\n",
       "         0.4712453 ],\n",
       "       [-0.44272306,  0.73336865, -0.69675388, -1.93258089,  0.8756597 ,\n",
       "         0.95080641],\n",
       "       [-0.44272306,  1.12404605,  0.64872968, -0.50195228,  0.30342262,\n",
       "        -0.62656678],\n",
       "       ...,\n",
       "       [-0.44272306, -1.51047256,  1.33650061,  0.2905621 ,  0.41019099,\n",
       "         0.4712453 ],\n",
       "       [ 2.33876611,  0.66800887, -1.96602684,  0.81808993,  0.88680626,\n",
       "         0.64427116],\n",
       "       [-0.44272306,  1.07419881,  0.64872968,  0.82274937, -0.1507875 ,\n",
       "         0.4712453 ]])"
      ]
     },
     "execution_count": 186,
     "metadata": {},
     "output_type": "execute_result"
    }
   ],
   "source": [
    "X2_train_scal"
   ]
  },
  {
   "cell_type": "code",
   "execution_count": 136,
   "metadata": {},
   "outputs": [
    {
     "data": {
      "text/plain": [
       "0.5670106171681222"
      ]
     },
     "execution_count": 136,
     "metadata": {},
     "output_type": "execute_result"
    }
   ],
   "source": [
    "from sklearn import metrics\n",
    "from sklearn.metrics import r2_score\n",
    "pred = forest.predict(X2_test_scal)\n",
    "r2_score(y2_test, pred)"
   ]
  },
  {
   "cell_type": "code",
   "execution_count": 137,
   "metadata": {},
   "outputs": [
    {
     "data": {
      "text/plain": [
       "array([0.35446696, 0.13416868, 0.09000826, 0.18310386, 0.11852294,\n",
       "       0.1197293 ])"
      ]
     },
     "execution_count": 137,
     "metadata": {},
     "output_type": "execute_result"
    }
   ],
   "source": [
    "forest.feature_importances_"
   ]
  },
  {
   "cell_type": "code",
   "execution_count": null,
   "metadata": {},
   "outputs": [],
   "source": [
    "df['dlog'] = np.log(df.columnx).diff("
   ]
  },
  {
   "cell_type": "code",
   "execution_count": 201,
   "metadata": {},
   "outputs": [
    {
     "name": "stdout",
     "output_type": "stream",
     "text": [
      "Predicciones [4.92317264]\n",
      "prediccion_real [137.43796331]\n"
     ]
    },
    {
     "name": "stderr",
     "output_type": "stream",
     "text": [
      "C:\\Users\\carlo\\AppData\\Local\\Programs\\Python\\Python37\\lib\\site-packages\\sklearn\\base.py:435: UserWarning: X has feature names, but RandomForestRegressor was fitted without feature names\n",
      "  f\"X has feature names, but {self.__class__.__name__} was fitted without\"\n",
      "C:\\Users\\carlo\\AppData\\Local\\Programs\\Python\\Python37\\lib\\site-packages\\sklearn\\base.py:435: UserWarning: X has feature names, but RandomForestRegressor was fitted without feature names\n",
      "  f\"X has feature names, but {self.__class__.__name__} was fitted without\"\n"
     ]
    }
   ],
   "source": [
    "prueba_prediccion=pd.DataFrame({\"Travel Class\":[0],\"day\":[29],\"month\":[3],\"Journey Finish Point_le\":[122],\"Journey Start Point_le\": [58],\t\"Air Carrier_le\":[28]})\n",
    "prueba_prediccion_log=np.log(prueba_prediccion+1)\n",
    "print(\"Predicciones\",forest.predict(prueba_prediccion_log))\n",
    "\n",
    "\n",
    "print(\"prediccion_real\", np.exp(forest.predict(prueba_prediccion_log)))"
   ]
  },
  {
   "cell_type": "code",
   "execution_count": 196,
   "metadata": {},
   "outputs": [],
   "source": [
    "from sklearn import preprocessing\n",
    "std_scale4 = preprocessing.StandardScaler().fit(prueba_prediccion_log)\n",
    "X2_train_scal4 = std_scale4.transform(prueba_prediccion_log)\n"
   ]
  },
  {
   "cell_type": "code",
   "execution_count": 195,
   "metadata": {},
   "outputs": [
    {
     "data": {
      "text/html": [
       "<div>\n",
       "<style scoped>\n",
       "    .dataframe tbody tr th:only-of-type {\n",
       "        vertical-align: middle;\n",
       "    }\n",
       "\n",
       "    .dataframe tbody tr th {\n",
       "        vertical-align: top;\n",
       "    }\n",
       "\n",
       "    .dataframe thead th {\n",
       "        text-align: right;\n",
       "    }\n",
       "</style>\n",
       "<table border=\"1\" class=\"dataframe\">\n",
       "  <thead>\n",
       "    <tr style=\"text-align: right;\">\n",
       "      <th></th>\n",
       "      <th>Travel Class</th>\n",
       "      <th>day</th>\n",
       "      <th>month</th>\n",
       "      <th>Journey Finish Point_le</th>\n",
       "      <th>Journey Start Point_le</th>\n",
       "      <th>Air Carrier_le</th>\n",
       "    </tr>\n",
       "  </thead>\n",
       "  <tbody>\n",
       "    <tr>\n",
       "      <th>0</th>\n",
       "      <td>0.0</td>\n",
       "      <td>3.401197</td>\n",
       "      <td>1.386294</td>\n",
       "      <td>4.812184</td>\n",
       "      <td>4.077537</td>\n",
       "      <td>3.367296</td>\n",
       "    </tr>\n",
       "  </tbody>\n",
       "</table>\n",
       "</div>"
      ],
      "text/plain": [
       "   Travel Class       day     month  Journey Finish Point_le  \\\n",
       "0           0.0  3.401197  1.386294                 4.812184   \n",
       "\n",
       "   Journey Start Point_le  Air Carrier_le  \n",
       "0                4.077537        3.367296  "
      ]
     },
     "execution_count": 195,
     "metadata": {},
     "output_type": "execute_result"
    }
   ],
   "source": [
    "prueba_prediccion_log"
   ]
  },
  {
   "cell_type": "code",
   "execution_count": 154,
   "metadata": {},
   "outputs": [],
   "source": [
    "dict1={\"features\": [\"Clase\",\t\"Día\",\"Mes\",\"Destino\",\"Origen\",\"Aerolínea\"],'importances': forest.feature_importances_}"
   ]
  },
  {
   "cell_type": "code",
   "execution_count": 155,
   "metadata": {},
   "outputs": [],
   "source": [
    "df_features=pd.DataFrame(dict1).sort_values('importances', ascending=False)\n",
    "df_features.rename(columns={\"features\":\"Variable\",\"importances\":\"Importancia\"},inplace=True)\n",
    "barra1 = np.array(df_features[\"Importancia\"])\n",
    "barra2 = np.array(df_features[\"Variable\"])"
   ]
  },
  {
   "cell_type": "code",
   "execution_count": 159,
   "metadata": {},
   "outputs": [
    {
     "data": {
      "image/png": "[encoded data removed]",
      "text/plain": [
       "<Figure size 1000x600 with 1 Axes>"
      ]
     },
     "metadata": {
      "needs_background": "light"
     },
     "output_type": "display_data"
    }
   ],
   "source": [
    "plt.figure(figsize=(10,6), dpi=100)\n",
    "plt.barh(barra2, barra1, height = 0.1,color=\"blue\")\n",
    "plt.xlabel('Importancia', fontsize=20)\n",
    "plt.ylabel('Variables')\n",
    "plt.title(\"Importancia de las variables\", size=17, color=\"Black\");\n",
    "plt.show()"
   ]
  },
  {
   "cell_type": "code",
   "execution_count": 66,
   "metadata": {},
   "outputs": [
    {
     "name": "stdout",
     "output_type": "stream",
     "text": [
      "[22:57:51] WARNING: C:/Users/Administrator/workspace/xgboost-win64_release_1.5.0/src/learner.cc:576: \n",
      "Parameters: { \"learnig_rate\" } might not be used.\n",
      "\n",
      "  This could be a false alarm, with some parameters getting used by language bindings but\n",
      "  then being mistakenly passed down to XGBoost core, or some parameter actually being used\n",
      "  but getting flagged wrongly here. Please open an issue if you find any such cases.\n",
      "\n",
      "\n"
     ]
    },
    {
     "data": {
      "text/plain": [
       "GridSearchCV(cv=10,\n",
       "             estimator=XGBRegressor(base_score=None, booster=None,\n",
       "                                    colsample_bylevel=None,\n",
       "                                    colsample_bynode=None,\n",
       "                                    colsample_bytree=None,\n",
       "                                    enable_categorical=False, gamma=None,\n",
       "                                    gpu_id=None, importance_type=None,\n",
       "                                    interaction_constraints=None,\n",
       "                                    learning_rate=None, max_delta_step=None,\n",
       "                                    max_depth=None, min_child_weight=None,\n",
       "                                    missing=nan, monotone_constraints=None,...\n",
       "                                    num_parallel_tree=None, predictor=None,\n",
       "                                    random_state=42, reg_alpha=None,\n",
       "                                    reg_lambda=None, scale_pos_weight=None,\n",
       "                                    subsample=None, tree_method=None,\n",
       "                                    validate_parameters=None, verbosity=None),\n",
       "             n_jobs=-1,\n",
       "             param_grid={'learnig_rate': [0.1, 0.3, 0.5, 0.7, 0.9],\n",
       "                         'max_depth': array([ 1,  2,  3,  4,  5,  6,  7,  8,  9, 10, 11, 12, 13, 14, 15, 16, 17,\n",
       "       18, 19, 20, 21, 22, 23, 24, 25, 26, 27, 28, 29]),\n",
       "                         'n_estimators': [10, 100, 1000]})"
      ]
     },
     "execution_count": 66,
     "metadata": {},
     "output_type": "execute_result"
    }
   ],
   "source": [
    "import xgboost\n",
    "parameters = {\"learnig_rate\": [0.1, 0.3, 0.5, 0.7,0.9], \"n_estimators\": [10, 100, 1000],\n",
    "            \"max_depth\": np.arange(1,30)}\n",
    "xgb_reg_grid2 = xgboost.XGBRegressor(random_state=42)\n",
    "\n",
    "m5 = GridSearchCV(estimator = xgb_reg_grid2,\n",
    "                  param_grid = parameters,\n",
    "                  n_jobs = -1, cv=10)\n",
    "\n",
    "m5.fit(X2_train_scal, y2_train)"
   ]
  },
  {
   "cell_type": "code",
   "execution_count": 67,
   "metadata": {},
   "outputs": [
    {
     "name": "stdout",
     "output_type": "stream",
     "text": [
      "XGBRegressor(base_score=0.5, booster='gbtree', colsample_bylevel=1,\n",
      "             colsample_bynode=1, colsample_bytree=1, enable_categorical=False,\n",
      "             gamma=0, gpu_id=-1, importance_type=None,\n",
      "             interaction_constraints='', learnig_rate=0.1,\n",
      "             learning_rate=0.300000012, max_delta_step=0, max_depth=4,\n",
      "             min_child_weight=1, missing=nan, monotone_constraints='()',\n",
      "             n_estimators=100, n_jobs=8, num_parallel_tree=1, predictor='auto',\n",
      "             random_state=42, reg_alpha=0, reg_lambda=1, scale_pos_weight=1,\n",
      "             subsample=1, tree_method='exact', validate_parameters=1,\n",
      "             verbosity=None)\n",
      "0.6144526774088763\n",
      "{'learnig_rate': 0.1, 'max_depth': 4, 'n_estimators': 100}\n"
     ]
    }
   ],
   "source": [
    "print(m5.best_estimator_)\n",
    "print(m5.best_score_)\n",
    "print(m5.best_params_)"
   ]
  },
  {
   "cell_type": "code",
   "execution_count": 34,
   "metadata": {},
   "outputs": [
    {
     "data": {
      "text/plain": [
       "<AxesSubplot:>"
      ]
     },
     "execution_count": 34,
     "metadata": {},
     "output_type": "execute_result"
    },
    {
     "data": {
      "image/png": "[encoded data removed]",
      "text/plain": [
       "<Figure size 432x288 with 2 Axes>"
      ]
     },
     "metadata": {
      "needs_background": "light"
     },
     "output_type": "display_data"
    }
   ],
   "source": [
    "sns.heatmap(df2_log.corr(),annot=True)"
   ]
  },
  {
   "cell_type": "code",
   "execution_count": 147,
   "metadata": {},
   "outputs": [
    {
     "data": {
      "text/html": [
       "<div>\n",
       "<style scoped>\n",
       "    .dataframe tbody tr th:only-of-type {\n",
       "        vertical-align: middle;\n",
       "    }\n",
       "\n",
       "    .dataframe tbody tr th {\n",
       "        vertical-align: top;\n",
       "    }\n",
       "\n",
       "    .dataframe thead th {\n",
       "        text-align: right;\n",
       "    }\n",
       "</style>\n",
       "<table border=\"1\" class=\"dataframe\">\n",
       "  <thead>\n",
       "    <tr style=\"text-align: right;\">\n",
       "      <th></th>\n",
       "      <th>Total Cost ex VAT</th>\n",
       "      <th>Travel Class</th>\n",
       "      <th>day</th>\n",
       "      <th>year</th>\n",
       "      <th>Journey Finish Point_le</th>\n",
       "      <th>Journey Start Point_le</th>\n",
       "      <th>Air Carrier_le</th>\n",
       "      <th>day/year</th>\n",
       "    </tr>\n",
       "  </thead>\n",
       "  <tbody>\n",
       "    <tr>\n",
       "      <th>0</th>\n",
       "      <td>4.413041</td>\n",
       "      <td>0.000000</td>\n",
       "      <td>2.397895</td>\n",
       "      <td>7.606885</td>\n",
       "      <td>4.700480</td>\n",
       "      <td>3.688879</td>\n",
       "      <td>3.496508</td>\n",
       "      <td>4.262680</td>\n",
       "    </tr>\n",
       "    <tr>\n",
       "      <th>1</th>\n",
       "      <td>5.385137</td>\n",
       "      <td>0.000000</td>\n",
       "      <td>3.401197</td>\n",
       "      <td>7.606885</td>\n",
       "      <td>4.812184</td>\n",
       "      <td>4.077537</td>\n",
       "      <td>3.367296</td>\n",
       "      <td>4.787492</td>\n",
       "    </tr>\n",
       "    <tr>\n",
       "      <th>2</th>\n",
       "      <td>8.983465</td>\n",
       "      <td>1.098612</td>\n",
       "      <td>2.079442</td>\n",
       "      <td>7.606885</td>\n",
       "      <td>5.117994</td>\n",
       "      <td>4.094345</td>\n",
       "      <td>2.890372</td>\n",
       "      <td>4.852030</td>\n",
       "    </tr>\n",
       "    <tr>\n",
       "      <th>3</th>\n",
       "      <td>5.612471</td>\n",
       "      <td>1.098612</td>\n",
       "      <td>2.079442</td>\n",
       "      <td>7.606885</td>\n",
       "      <td>4.204693</td>\n",
       "      <td>4.077537</td>\n",
       "      <td>2.890372</td>\n",
       "      <td>4.852030</td>\n",
       "    </tr>\n",
       "    <tr>\n",
       "      <th>4</th>\n",
       "      <td>8.983465</td>\n",
       "      <td>1.098612</td>\n",
       "      <td>2.079442</td>\n",
       "      <td>7.606885</td>\n",
       "      <td>5.117994</td>\n",
       "      <td>4.094345</td>\n",
       "      <td>2.890372</td>\n",
       "      <td>4.852030</td>\n",
       "    </tr>\n",
       "    <tr>\n",
       "      <th>...</th>\n",
       "      <td>...</td>\n",
       "      <td>...</td>\n",
       "      <td>...</td>\n",
       "      <td>...</td>\n",
       "      <td>...</td>\n",
       "      <td>...</td>\n",
       "      <td>...</td>\n",
       "      <td>...</td>\n",
       "    </tr>\n",
       "    <tr>\n",
       "      <th>2950</th>\n",
       "      <td>4.283449</td>\n",
       "      <td>0.000000</td>\n",
       "      <td>2.944439</td>\n",
       "      <td>7.606885</td>\n",
       "      <td>3.465736</td>\n",
       "      <td>2.302585</td>\n",
       "      <td>3.496508</td>\n",
       "      <td>5.855072</td>\n",
       "    </tr>\n",
       "    <tr>\n",
       "      <th>2951</th>\n",
       "      <td>3.494688</td>\n",
       "      <td>0.000000</td>\n",
       "      <td>2.944439</td>\n",
       "      <td>7.606885</td>\n",
       "      <td>2.995732</td>\n",
       "      <td>2.833213</td>\n",
       "      <td>3.367296</td>\n",
       "      <td>5.855072</td>\n",
       "    </tr>\n",
       "    <tr>\n",
       "      <th>2952</th>\n",
       "      <td>5.592478</td>\n",
       "      <td>0.000000</td>\n",
       "      <td>3.135494</td>\n",
       "      <td>7.606885</td>\n",
       "      <td>4.709530</td>\n",
       "      <td>3.988984</td>\n",
       "      <td>3.583519</td>\n",
       "      <td>5.866468</td>\n",
       "    </tr>\n",
       "    <tr>\n",
       "      <th>2953</th>\n",
       "      <td>5.375741</td>\n",
       "      <td>0.000000</td>\n",
       "      <td>3.401197</td>\n",
       "      <td>7.606885</td>\n",
       "      <td>4.770685</td>\n",
       "      <td>3.988984</td>\n",
       "      <td>3.583519</td>\n",
       "      <td>5.886104</td>\n",
       "    </tr>\n",
       "    <tr>\n",
       "      <th>2954</th>\n",
       "      <td>4.647271</td>\n",
       "      <td>0.000000</td>\n",
       "      <td>3.433987</td>\n",
       "      <td>7.606885</td>\n",
       "      <td>4.382027</td>\n",
       "      <td>4.094345</td>\n",
       "      <td>2.890372</td>\n",
       "      <td>5.888878</td>\n",
       "    </tr>\n",
       "  </tbody>\n",
       "</table>\n",
       "<p>2955 rows × 8 columns</p>\n",
       "</div>"
      ],
      "text/plain": [
       "       Total Cost ex VAT   Travel Class       day      year  \\\n",
       "0                4.413041      0.000000  2.397895  7.606885   \n",
       "1                5.385137      0.000000  3.401197  7.606885   \n",
       "2                8.983465      1.098612  2.079442  7.606885   \n",
       "3                5.612471      1.098612  2.079442  7.606885   \n",
       "4                8.983465      1.098612  2.079442  7.606885   \n",
       "...                   ...           ...       ...       ...   \n",
       "2950             4.283449      0.000000  2.944439  7.606885   \n",
       "2951             3.494688      0.000000  2.944439  7.606885   \n",
       "2952             5.592478      0.000000  3.135494  7.606885   \n",
       "2953             5.375741      0.000000  3.401197  7.606885   \n",
       "2954             4.647271      0.000000  3.433987  7.606885   \n",
       "\n",
       "      Journey Finish Point_le  Journey Start Point_le  Air Carrier_le  \\\n",
       "0                    4.700480                3.688879        3.496508   \n",
       "1                    4.812184                4.077537        3.367296   \n",
       "2                    5.117994                4.094345        2.890372   \n",
       "3                    4.204693                4.077537        2.890372   \n",
       "4                    5.117994                4.094345        2.890372   \n",
       "...                       ...                     ...             ...   \n",
       "2950                 3.465736                2.302585        3.496508   \n",
       "2951                 2.995732                2.833213        3.367296   \n",
       "2952                 4.709530                3.988984        3.583519   \n",
       "2953                 4.770685                3.988984        3.583519   \n",
       "2954                 4.382027                4.094345        2.890372   \n",
       "\n",
       "      day/year  \n",
       "0     4.262680  \n",
       "1     4.787492  \n",
       "2     4.852030  \n",
       "3     4.852030  \n",
       "4     4.852030  \n",
       "...        ...  \n",
       "2950  5.855072  \n",
       "2951  5.855072  \n",
       "2952  5.866468  \n",
       "2953  5.886104  \n",
       "2954  5.888878  \n",
       "\n",
       "[2955 rows x 8 columns]"
      ]
     },
     "execution_count": 147,
     "metadata": {},
     "output_type": "execute_result"
    }
   ],
   "source": [
    "df_yearday_log"
   ]
  },
  {
   "cell_type": "code",
   "execution_count": 50,
   "metadata": {},
   "outputs": [],
   "source": [
    "df3_log=df2_log.drop([\"day\"],axis=1)"
   ]
  },
  {
   "cell_type": "code",
   "execution_count": 51,
   "metadata": {},
   "outputs": [],
   "source": [
    "X22=df2_log.drop(\" Total Cost ex VAT \",axis=1)\n",
    "y22=df2_log[\" Total Cost ex VAT \"]\n",
    "from sklearn.model_selection import train_test_split\n",
    "X22_train, X22_test, y22_train, y22_test =  train_test_split(X22, y22, test_size = 0.20, random_state = 42)"
   ]
  },
  {
   "cell_type": "code",
   "execution_count": 52,
   "metadata": {},
   "outputs": [],
   "source": [
    "from sklearn import preprocessing\n",
    "std_scale22 = preprocessing.StandardScaler().fit(X22_train)\n",
    "X22_train_scal = std_scale22.transform(X22_train)\n",
    "X22_test_scal = std_scale22.transform(X22_test)"
   ]
  },
  {
   "cell_type": "code",
   "execution_count": 53,
   "metadata": {},
   "outputs": [
    {
     "data": {
      "text/plain": [
       "0.5787566941501303"
      ]
     },
     "execution_count": 53,
     "metadata": {},
     "output_type": "execute_result"
    }
   ],
   "source": [
    "import xgboost\n",
    "from sklearn.metrics import r2_score\n",
    "xgb_reg = xgboost.XGBRegressor(max_depth=4,n_estimators=100,random_state=42)\n",
    "\n",
    "xgb_reg.fit(X22_train_scal, y22_train)\n",
    "y_pred = xgb_reg.predict(X22_test_scal)\n",
    "r2_score(y22_test, y_pred) "
   ]
  },
  {
   "cell_type": "code",
   "execution_count": 45,
   "metadata": {},
   "outputs": [
    {
     "data": {
      "text/html": [
       "<div>\n",
       "<style scoped>\n",
       "    .dataframe tbody tr th:only-of-type {\n",
       "        vertical-align: middle;\n",
       "    }\n",
       "\n",
       "    .dataframe tbody tr th {\n",
       "        vertical-align: top;\n",
       "    }\n",
       "\n",
       "    .dataframe thead th {\n",
       "        text-align: right;\n",
       "    }\n",
       "</style>\n",
       "<table border=\"1\" class=\"dataframe\">\n",
       "  <thead>\n",
       "    <tr style=\"text-align: right;\">\n",
       "      <th></th>\n",
       "      <th>Total Cost ex VAT</th>\n",
       "      <th>Travel Class</th>\n",
       "      <th>Journey Finish Point_le</th>\n",
       "      <th>Journey Start Point_le</th>\n",
       "      <th>Air Carrier_le</th>\n",
       "    </tr>\n",
       "  </thead>\n",
       "  <tbody>\n",
       "    <tr>\n",
       "      <th>0</th>\n",
       "      <td>4.413041</td>\n",
       "      <td>0.000000</td>\n",
       "      <td>4.700480</td>\n",
       "      <td>3.688879</td>\n",
       "      <td>3.496508</td>\n",
       "    </tr>\n",
       "    <tr>\n",
       "      <th>1</th>\n",
       "      <td>5.385137</td>\n",
       "      <td>0.000000</td>\n",
       "      <td>4.812184</td>\n",
       "      <td>4.077537</td>\n",
       "      <td>3.367296</td>\n",
       "    </tr>\n",
       "    <tr>\n",
       "      <th>2</th>\n",
       "      <td>8.983465</td>\n",
       "      <td>1.098612</td>\n",
       "      <td>5.117994</td>\n",
       "      <td>4.094345</td>\n",
       "      <td>2.890372</td>\n",
       "    </tr>\n",
       "    <tr>\n",
       "      <th>3</th>\n",
       "      <td>5.612471</td>\n",
       "      <td>1.098612</td>\n",
       "      <td>4.204693</td>\n",
       "      <td>4.077537</td>\n",
       "      <td>2.890372</td>\n",
       "    </tr>\n",
       "    <tr>\n",
       "      <th>4</th>\n",
       "      <td>8.983465</td>\n",
       "      <td>1.098612</td>\n",
       "      <td>5.117994</td>\n",
       "      <td>4.094345</td>\n",
       "      <td>2.890372</td>\n",
       "    </tr>\n",
       "    <tr>\n",
       "      <th>...</th>\n",
       "      <td>...</td>\n",
       "      <td>...</td>\n",
       "      <td>...</td>\n",
       "      <td>...</td>\n",
       "      <td>...</td>\n",
       "    </tr>\n",
       "    <tr>\n",
       "      <th>2950</th>\n",
       "      <td>4.283449</td>\n",
       "      <td>0.000000</td>\n",
       "      <td>3.465736</td>\n",
       "      <td>2.302585</td>\n",
       "      <td>3.496508</td>\n",
       "    </tr>\n",
       "    <tr>\n",
       "      <th>2951</th>\n",
       "      <td>3.494688</td>\n",
       "      <td>0.000000</td>\n",
       "      <td>2.995732</td>\n",
       "      <td>2.833213</td>\n",
       "      <td>3.367296</td>\n",
       "    </tr>\n",
       "    <tr>\n",
       "      <th>2952</th>\n",
       "      <td>5.592478</td>\n",
       "      <td>0.000000</td>\n",
       "      <td>4.709530</td>\n",
       "      <td>3.988984</td>\n",
       "      <td>3.583519</td>\n",
       "    </tr>\n",
       "    <tr>\n",
       "      <th>2953</th>\n",
       "      <td>5.375741</td>\n",
       "      <td>0.000000</td>\n",
       "      <td>4.770685</td>\n",
       "      <td>3.988984</td>\n",
       "      <td>3.583519</td>\n",
       "    </tr>\n",
       "    <tr>\n",
       "      <th>2954</th>\n",
       "      <td>4.647271</td>\n",
       "      <td>0.000000</td>\n",
       "      <td>4.382027</td>\n",
       "      <td>4.094345</td>\n",
       "      <td>2.890372</td>\n",
       "    </tr>\n",
       "  </tbody>\n",
       "</table>\n",
       "<p>2955 rows × 5 columns</p>\n",
       "</div>"
      ],
      "text/plain": [
       "       Total Cost ex VAT   Travel Class  Journey Finish Point_le  \\\n",
       "0                4.413041      0.000000                 4.700480   \n",
       "1                5.385137      0.000000                 4.812184   \n",
       "2                8.983465      1.098612                 5.117994   \n",
       "3                5.612471      1.098612                 4.204693   \n",
       "4                8.983465      1.098612                 5.117994   \n",
       "...                   ...           ...                      ...   \n",
       "2950             4.283449      0.000000                 3.465736   \n",
       "2951             3.494688      0.000000                 2.995732   \n",
       "2952             5.592478      0.000000                 4.709530   \n",
       "2953             5.375741      0.000000                 4.770685   \n",
       "2954             4.647271      0.000000                 4.382027   \n",
       "\n",
       "      Journey Start Point_le  Air Carrier_le  \n",
       "0                   3.688879        3.496508  \n",
       "1                   4.077537        3.367296  \n",
       "2                   4.094345        2.890372  \n",
       "3                   4.077537        2.890372  \n",
       "4                   4.094345        2.890372  \n",
       "...                      ...             ...  \n",
       "2950                2.302585        3.496508  \n",
       "2951                2.833213        3.367296  \n",
       "2952                3.988984        3.583519  \n",
       "2953                3.988984        3.583519  \n",
       "2954                4.094345        2.890372  \n",
       "\n",
       "[2955 rows x 5 columns]"
      ]
     },
     "execution_count": 45,
     "metadata": {},
     "output_type": "execute_result"
    }
   ],
   "source": [
    "df3_log"
   ]
  },
  {
   "cell_type": "code",
   "execution_count": 46,
   "metadata": {},
   "outputs": [],
   "source": [
    "df4_log=df3_log.drop([\"Journey Finish Point_le\",\"Journey Start Point_le\",\"Air Carrier_le\"],axis=1)"
   ]
  },
  {
   "cell_type": "code",
   "execution_count": 47,
   "metadata": {},
   "outputs": [],
   "source": [
    "X4=df4_log.drop(\" Total Cost ex VAT \",axis=1)\n",
    "y4=df4_log[\" Total Cost ex VAT \"]\n",
    "from sklearn.model_selection import train_test_split\n",
    "X4_train, X4_test, y4_train, y4_test =  train_test_split(X4, y4, test_size = 0.20, random_state = 42)"
   ]
  },
  {
   "cell_type": "code",
   "execution_count": 48,
   "metadata": {},
   "outputs": [],
   "source": [
    "from sklearn import preprocessing\n",
    "std_scale4 = preprocessing.StandardScaler().fit(X4_train)\n",
    "X4_train_scal = std_scale4.transform(X4_train)\n",
    "X4_test_scal = std_scale4.transform(X4_test)"
   ]
  },
  {
   "cell_type": "code",
   "execution_count": 49,
   "metadata": {},
   "outputs": [
    {
     "data": {
      "text/plain": [
       "0.30332953099440063"
      ]
     },
     "execution_count": 49,
     "metadata": {},
     "output_type": "execute_result"
    }
   ],
   "source": [
    "import xgboost\n",
    "from sklearn.metrics import r2_score\n",
    "xgb_reg = xgboost.XGBRegressor(max_depth=4,n_estimators=100,random_state=42)\n",
    "\n",
    "xgb_reg.fit(X4_train_scal, y4_train)\n",
    "y_pred4 = xgb_reg.predict(X4_test_scal)\n",
    "r2_score(y4_test, y_pred4)"
   ]
  },
  {
   "cell_type": "code",
   "execution_count": 37,
   "metadata": {},
   "outputs": [],
   "source": [
    "df1[\"day/year\"]=(df1[\"month\"]*30) + df1[\"day\"]"
   ]
  },
  {
   "cell_type": "code",
   "execution_count": 39,
   "metadata": {},
   "outputs": [
    {
     "data": {
      "text/plain": [
       "<AxesSubplot:>"
      ]
     },
     "execution_count": 39,
     "metadata": {},
     "output_type": "execute_result"
    },
    {
     "data": {
      "image/png": "[encoded data removed]",
      "text/plain": [
       "<Figure size 432x288 with 2 Axes>"
      ]
     },
     "metadata": {
      "needs_background": "light"
     },
     "output_type": "display_data"
    }
   ],
   "source": [
    "sns.heatmap(df1.corr(),annot=True)"
   ]
  },
  {
   "cell_type": "code",
   "execution_count": 41,
   "metadata": {},
   "outputs": [],
   "source": [
    "df_yearday=df1.drop([\"month\"],axis=1)"
   ]
  },
  {
   "cell_type": "code",
   "execution_count": 45,
   "metadata": {},
   "outputs": [
    {
     "name": "stdout",
     "output_type": "stream",
     "text": [
      "<class 'pandas.core.frame.DataFrame'>\n",
      "RangeIndex: 2955 entries, 0 to 2954\n",
      "Data columns (total 8 columns):\n",
      " #   Column                   Non-Null Count  Dtype  \n",
      "---  ------                   --------------  -----  \n",
      " 0    Total Cost ex VAT       2955 non-null   float64\n",
      " 1   Travel Class             2955 non-null   int64  \n",
      " 2   day                      2955 non-null   int32  \n",
      " 3   year                     2955 non-null   int32  \n",
      " 4   Journey Finish Point_le  2955 non-null   int32  \n",
      " 5   Journey Start Point_le   2955 non-null   int32  \n",
      " 6   Air Carrier_le           2955 non-null   int32  \n",
      " 7   day/year                 2955 non-null   int32  \n",
      "dtypes: float64(1), int32(6), int64(1)\n",
      "memory usage: 115.6 KB\n"
     ]
    }
   ],
   "source": [
    "df_yearday.info()"
   ]
  },
  {
   "cell_type": "code",
   "execution_count": 51,
   "metadata": {},
   "outputs": [
    {
     "name": "stderr",
     "output_type": "stream",
     "text": [
      "C:\\Users\\carlo\\AppData\\Local\\Programs\\Python\\Python37\\lib\\site-packages\\seaborn\\distributions.py:2619: FutureWarning: `distplot` is a deprecated function and will be removed in a future version. Please adapt your code to use either `displot` (a figure-level function with similar flexibility) or `histplot` (an axes-level function for histograms).\n",
      "  warnings.warn(msg, FutureWarning)\n",
      "C:\\Users\\carlo\\AppData\\Local\\Programs\\Python\\Python37\\lib\\site-packages\\seaborn\\distributions.py:2619: FutureWarning: `distplot` is a deprecated function and will be removed in a future version. Please adapt your code to use either `displot` (a figure-level function with similar flexibility) or `histplot` (an axes-level function for histograms).\n",
      "  warnings.warn(msg, FutureWarning)\n"
     ]
    },
    {
     "data": {
      "image/png": "[encoded data removed]",
      "text/plain": [
       "<Figure size 1000x600 with 1 Axes>"
      ]
     },
     "metadata": {
      "needs_background": "light"
     },
     "output_type": "display_data"
    }
   ],
   "source": [
    "plt.figure(figsize=(10,6), dpi=100)\n",
    "fig_sin_log=sns.distplot(df_yearday[\" Total Cost ex VAT \"]);\n",
    "fig1=sns.distplot(df1[\" Total Cost ex VAT \"])\n",
    "plt.xlabel('Precio del Billete', fontsize=20)\n",
    "plt.ylabel('Densidad')\n",
    "plt.title(\"Distribución del precio del billete\", size=17, color=\"Black\");"
   ]
  },
  {
   "cell_type": "code",
   "execution_count": 52,
   "metadata": {},
   "outputs": [],
   "source": [
    "df_yearday_log=np.log(df_yearday+1)"
   ]
  },
  {
   "cell_type": "code",
   "execution_count": 53,
   "metadata": {},
   "outputs": [],
   "source": [
    "from sklearn.model_selection import train_test_split\n",
    "X_train, X_test, y_train, y_test =  train_test_split(X, y, test_size = 0.20, random_state = 42)"
   ]
  },
  {
   "cell_type": "code",
   "execution_count": 54,
   "metadata": {},
   "outputs": [
    {
     "data": {
      "text/plain": [
       "GridSearchCV(cv=10, estimator=RandomForestRegressor(random_state=42), n_jobs=-1,\n",
       "             param_grid={'max_depth': [50, 100, 150, 200],\n",
       "                         'max_features': [1, 2, 3],\n",
       "                         'n_estimators': [10, 100, 1000]})"
      ]
     },
     "execution_count": 54,
     "metadata": {},
     "output_type": "execute_result"
    }
   ],
   "source": [
    "from sklearn.model_selection import GridSearchCV\n",
    "parameters = {\"n_estimators\": [10, 100, 1000],\n",
    "    \"max_features\": [1,2,3], \"max_depth\": [50,100,150,200]}\n",
    "\n",
    "rnd_reg_grid = RandomForestRegressor(random_state=42)\n",
    "\n",
    "m1 = GridSearchCV(estimator = rnd_reg_grid,\n",
    "                  param_grid = parameters,\n",
    "                  n_jobs = -1, cv=10)\n",
    "\n",
    "m1.fit(X_train, y_train)"
   ]
  },
  {
   "cell_type": "code",
   "execution_count": 55,
   "metadata": {},
   "outputs": [
    {
     "name": "stdout",
     "output_type": "stream",
     "text": [
      "RandomForestRegressor(max_depth=50, max_features=2, n_estimators=1000,\n",
      "                      random_state=42)\n",
      "0.6211855647785237\n",
      "{'max_depth': 50, 'max_features': 2, 'n_estimators': 1000}\n"
     ]
    }
   ],
   "source": [
    "print(m1.best_estimator_)\n",
    "print(m1.best_score_)\n",
    "print(m1.best_params_)"
   ]
  },
  {
   "cell_type": "code",
   "execution_count": 60,
   "metadata": {},
   "outputs": [
    {
     "name": "stdout",
     "output_type": "stream",
     "text": [
      "MAE: 0.4699795234584668\n",
      "MSE: 0.507625981108781\n",
      "RMSE: 0.712478758356192\n"
     ]
    }
   ],
   "source": [
    "print('MAE:', metrics.mean_absolute_error(y_test, m1.predict(X_test)))\n",
    "print('MSE:', metrics.mean_squared_error(y_test,m1.predict(X_test) ))\n",
    "print('RMSE:', np.sqrt(metrics.mean_squared_error(y_test,m1.predict(X_test))))"
   ]
  },
  {
   "cell_type": "code",
   "execution_count": 61,
   "metadata": {},
   "outputs": [
    {
     "name": "stdout",
     "output_type": "stream",
     "text": [
      "R2 score: 0.5852636636166769\n"
     ]
    }
   ],
   "source": [
    "print(\"R2 score:\", r2_score(y_test,m1.predict(X_test)))"
   ]
  },
  {
   "cell_type": "code",
   "execution_count": 63,
   "metadata": {},
   "outputs": [],
   "source": [
    "df_yearday_log_2=df_yearday_log.drop([\"day\",\"year\"],axis=1)"
   ]
  },
  {
   "cell_type": "code",
   "execution_count": 64,
   "metadata": {},
   "outputs": [],
   "source": [
    "from sklearn.model_selection import train_test_split\n",
    "X_train, X_test, y_train, y_test =  train_test_split(X, y, test_size = 0.20, random_state = 42)"
   ]
  },
  {
   "cell_type": "code",
   "execution_count": 65,
   "metadata": {},
   "outputs": [
    {
     "data": {
      "text/plain": [
       "GridSearchCV(cv=10, estimator=RandomForestRegressor(random_state=42), n_jobs=-1,\n",
       "             param_grid={'max_depth': [50, 100, 150, 200],\n",
       "                         'max_features': [1, 2, 3],\n",
       "                         'n_estimators': [10, 100, 1000]})"
      ]
     },
     "execution_count": 65,
     "metadata": {},
     "output_type": "execute_result"
    }
   ],
   "source": [
    "from sklearn.model_selection import GridSearchCV\n",
    "parameters = {\"n_estimators\": [10, 100, 1000],\n",
    "    \"max_features\": [1,2,3], \"max_depth\": [50,100,150,200]}\n",
    "\n",
    "rnd_reg_grid = RandomForestRegressor(random_state=42)\n",
    "\n",
    "m1 = GridSearchCV(estimator = rnd_reg_grid,\n",
    "                  param_grid = parameters,\n",
    "                  n_jobs = -1, cv=10)\n",
    "\n",
    "m1.fit(X_train, y_train)"
   ]
  },
  {
   "cell_type": "code",
   "execution_count": 67,
   "metadata": {},
   "outputs": [
    {
     "name": "stdout",
     "output_type": "stream",
     "text": [
      "MAE: 0.4699795234584668\n",
      "MSE: 0.507625981108781\n",
      "RMSE: 0.712478758356192\n",
      "R2 score: 0.5852636636166769\n"
     ]
    }
   ],
   "source": [
    "print('MAE:', metrics.mean_absolute_error(y_test, m1.predict(X_test)))\n",
    "print('MSE:', metrics.mean_squared_error(y_test,m1.predict(X_test) ))\n",
    "print('RMSE:', np.sqrt(metrics.mean_squared_error(y_test,m1.predict(X_test))))\n",
    "print(\"R2 score:\", r2_score(y_test,m1.predict(X_test)))"
   ]
  },
  {
   "cell_type": "code",
   "execution_count": 66,
   "metadata": {},
   "outputs": [
    {
     "name": "stdout",
     "output_type": "stream",
     "text": [
      "RandomForestRegressor(max_depth=50, max_features=2, n_estimators=1000,\n",
      "                      random_state=42)\n",
      "0.6211855647785237\n",
      "{'max_depth': 50, 'max_features': 2, 'n_estimators': 1000}\n"
     ]
    }
   ],
   "source": [
    "print(m1.best_estimator_)\n",
    "print(m1.best_score_)\n",
    "print(m1.best_params_)"
   ]
  },
  {
   "cell_type": "markdown",
   "metadata": {},
   "source": [
    "### Trabajamos el csv como un datetime y vemos que no hay relación entre el coste del billete\n",
    "### y la fecha del vuelo."
   ]
  },
  {
   "cell_type": "code",
   "execution_count": 55,
   "metadata": {},
   "outputs": [],
   "source": [
    "df_time=pd.read_csv(\"..\\\\data\\\\raw\\\\dft-flights-data-2011-1.csv\",encoding=\"unicode_escape\")"
   ]
  },
  {
   "cell_type": "code",
   "execution_count": 56,
   "metadata": {},
   "outputs": [],
   "source": [
    "df_time.drop([\"Number of Travellers\",\"Customer\"],axis=1,inplace=True)\n",
    "replace_string(df = df_time, col= \" Total Cost ex VAT \", string_list=[',', '£'], replacement='')\n",
    "df_time[\" Total Cost ex VAT \"]=df_time[\" Total Cost ex VAT \"].astype(\"float\")"
   ]
  },
  {
   "cell_type": "code",
   "execution_count": 57,
   "metadata": {},
   "outputs": [],
   "source": [
    "df_time['new_date'] = pd.to_datetime(df_time[\"Travel Date\"])"
   ]
  },
  {
   "cell_type": "code",
   "execution_count": 58,
   "metadata": {},
   "outputs": [
    {
     "data": {
      "text/plain": [
       "[<matplotlib.lines.Line2D at 0x220a9ef2708>]"
      ]
     },
     "execution_count": 58,
     "metadata": {},
     "output_type": "execute_result"
    },
    {
     "data": {
      "image/png": "[encoded data removed]",
      "text/plain": [
       "<Figure size 1152x360 with 1 Axes>"
      ]
     },
     "metadata": {
      "needs_background": "light"
     },
     "output_type": "display_data"
    }
   ],
   "source": [
    "plt.figure(figsize=(16,5))\n",
    "plt.plot(df_time[\"new_date\"].head(20), df_time[\" Total Cost ex VAT \"].head(20), color='tab:red')"
   ]
  },
  {
   "cell_type": "code",
   "execution_count": 99,
   "metadata": {},
   "outputs": [
    {
     "data": {
      "text/html": [
       "<div>\n",
       "<style scoped>\n",
       "    .dataframe tbody tr th:only-of-type {\n",
       "        vertical-align: middle;\n",
       "    }\n",
       "\n",
       "    .dataframe tbody tr th {\n",
       "        vertical-align: top;\n",
       "    }\n",
       "\n",
       "    .dataframe thead th {\n",
       "        text-align: right;\n",
       "    }\n",
       "</style>\n",
       "<table border=\"1\" class=\"dataframe\">\n",
       "  <thead>\n",
       "    <tr style=\"text-align: right;\">\n",
       "      <th></th>\n",
       "      <th>Total Cost ex VAT</th>\n",
       "      <th>Travel Class</th>\n",
       "      <th>Ticket Single or Return</th>\n",
       "      <th>Travel Date</th>\n",
       "      <th>Journey Start Point</th>\n",
       "      <th>Journey Finish Point</th>\n",
       "      <th>Air Carrier</th>\n",
       "      <th>new_date</th>\n",
       "    </tr>\n",
       "  </thead>\n",
       "  <tbody>\n",
       "    <tr>\n",
       "      <th>0</th>\n",
       "      <td>81.52</td>\n",
       "      <td>ECONOMY</td>\n",
       "      <td>Return</td>\n",
       "      <td>10/2/2011</td>\n",
       "      <td>GLASGOW</td>\n",
       "      <td>LONDON - LGW</td>\n",
       "      <td>FLYBE</td>\n",
       "      <td>2011-10-02</td>\n",
       "    </tr>\n",
       "    <tr>\n",
       "      <th>1</th>\n",
       "      <td>217.14</td>\n",
       "      <td>ECONOMY</td>\n",
       "      <td>Return</td>\n",
       "      <td>29/3/2011</td>\n",
       "      <td>LONDON - LGW</td>\n",
       "      <td>MARRAKECH</td>\n",
       "      <td>EASYJET</td>\n",
       "      <td>2011-03-29</td>\n",
       "    </tr>\n",
       "    <tr>\n",
       "      <th>2</th>\n",
       "      <td>7969.20</td>\n",
       "      <td>BUSINESS</td>\n",
       "      <td>Return</td>\n",
       "      <td>7/4/2011</td>\n",
       "      <td>LONDON - LHR</td>\n",
       "      <td>SINGAPORE</td>\n",
       "      <td>BRITISH AIRWAYS</td>\n",
       "      <td>2011-07-04</td>\n",
       "    </tr>\n",
       "    <tr>\n",
       "      <th>3</th>\n",
       "      <td>272.82</td>\n",
       "      <td>BUSINESS</td>\n",
       "      <td>Return</td>\n",
       "      <td>7/4/2011</td>\n",
       "      <td>LONDON - LGW</td>\n",
       "      <td>EDINBURGH</td>\n",
       "      <td>BRITISH AIRWAYS</td>\n",
       "      <td>2011-07-04</td>\n",
       "    </tr>\n",
       "    <tr>\n",
       "      <th>4</th>\n",
       "      <td>7969.20</td>\n",
       "      <td>BUSINESS</td>\n",
       "      <td>Return</td>\n",
       "      <td>7/4/2011</td>\n",
       "      <td>LONDON - LHR</td>\n",
       "      <td>SINGAPORE</td>\n",
       "      <td>BRITISH AIRWAYS</td>\n",
       "      <td>2011-07-04</td>\n",
       "    </tr>\n",
       "    <tr>\n",
       "      <th>...</th>\n",
       "      <td>...</td>\n",
       "      <td>...</td>\n",
       "      <td>...</td>\n",
       "      <td>...</td>\n",
       "      <td>...</td>\n",
       "      <td>...</td>\n",
       "      <td>...</td>\n",
       "      <td>...</td>\n",
       "    </tr>\n",
       "    <tr>\n",
       "      <th>2950</th>\n",
       "      <td>71.49</td>\n",
       "      <td>ECONOMY</td>\n",
       "      <td>Single</td>\n",
       "      <td>18/11/2011</td>\n",
       "      <td>BELFAST CITY</td>\n",
       "      <td>BRISTOL</td>\n",
       "      <td>FLYBE</td>\n",
       "      <td>2011-11-18</td>\n",
       "    </tr>\n",
       "    <tr>\n",
       "      <th>2951</th>\n",
       "      <td>31.94</td>\n",
       "      <td>ECONOMY</td>\n",
       "      <td>Single</td>\n",
       "      <td>18/11/2011</td>\n",
       "      <td>BRISTOL</td>\n",
       "      <td>BELFAST INTL</td>\n",
       "      <td>EASYJET</td>\n",
       "      <td>2011-11-18</td>\n",
       "    </tr>\n",
       "    <tr>\n",
       "      <th>2952</th>\n",
       "      <td>267.40</td>\n",
       "      <td>ECONOMY</td>\n",
       "      <td>Return</td>\n",
       "      <td>22/11/2011</td>\n",
       "      <td>LAS PALMAS</td>\n",
       "      <td>LONDON - LHR</td>\n",
       "      <td>IBERIA</td>\n",
       "      <td>2011-11-22</td>\n",
       "    </tr>\n",
       "    <tr>\n",
       "      <th>2953</th>\n",
       "      <td>215.10</td>\n",
       "      <td>ECONOMY</td>\n",
       "      <td>Return</td>\n",
       "      <td>29/11/2011</td>\n",
       "      <td>LAS PALMAS</td>\n",
       "      <td>MADRID</td>\n",
       "      <td>IBERIA</td>\n",
       "      <td>2011-11-29</td>\n",
       "    </tr>\n",
       "    <tr>\n",
       "      <th>2954</th>\n",
       "      <td>103.30</td>\n",
       "      <td>ECONOMY</td>\n",
       "      <td>Return</td>\n",
       "      <td>30/11/2011</td>\n",
       "      <td>LONDON - LHR</td>\n",
       "      <td>GOTHENBURG</td>\n",
       "      <td>BRITISH AIRWAYS</td>\n",
       "      <td>2011-11-30</td>\n",
       "    </tr>\n",
       "  </tbody>\n",
       "</table>\n",
       "<p>2955 rows × 8 columns</p>\n",
       "</div>"
      ],
      "text/plain": [
       "       Total Cost ex VAT  Travel Class Ticket Single or Return Travel Date  \\\n",
       "0                   81.52      ECONOMY                  Return   10/2/2011   \n",
       "1                  217.14      ECONOMY                  Return   29/3/2011   \n",
       "2                 7969.20     BUSINESS                  Return    7/4/2011   \n",
       "3                  272.82     BUSINESS                  Return    7/4/2011   \n",
       "4                 7969.20     BUSINESS                  Return    7/4/2011   \n",
       "...                   ...          ...                     ...         ...   \n",
       "2950                71.49      ECONOMY                  Single  18/11/2011   \n",
       "2951                31.94      ECONOMY                  Single  18/11/2011   \n",
       "2952               267.40      ECONOMY                  Return  22/11/2011   \n",
       "2953               215.10      ECONOMY                  Return  29/11/2011   \n",
       "2954               103.30      ECONOMY                  Return  30/11/2011   \n",
       "\n",
       "     Journey Start Point Journey Finish Point      Air Carrier   new_date  \n",
       "0                GLASGOW         LONDON - LGW            FLYBE 2011-10-02  \n",
       "1           LONDON - LGW            MARRAKECH          EASYJET 2011-03-29  \n",
       "2           LONDON - LHR            SINGAPORE  BRITISH AIRWAYS 2011-07-04  \n",
       "3           LONDON - LGW            EDINBURGH  BRITISH AIRWAYS 2011-07-04  \n",
       "4           LONDON - LHR            SINGAPORE  BRITISH AIRWAYS 2011-07-04  \n",
       "...                  ...                  ...              ...        ...  \n",
       "2950        BELFAST CITY              BRISTOL            FLYBE 2011-11-18  \n",
       "2951             BRISTOL         BELFAST INTL          EASYJET 2011-11-18  \n",
       "2952          LAS PALMAS         LONDON - LHR           IBERIA 2011-11-22  \n",
       "2953          LAS PALMAS               MADRID           IBERIA 2011-11-29  \n",
       "2954        LONDON - LHR           GOTHENBURG  BRITISH AIRWAYS 2011-11-30  \n",
       "\n",
       "[2955 rows x 8 columns]"
      ]
     },
     "execution_count": 99,
     "metadata": {},
     "output_type": "execute_result"
    }
   ],
   "source": [
    "df_time"
   ]
  },
  {
   "cell_type": "code",
   "execution_count": 183,
   "metadata": {},
   "outputs": [
    {
     "data": {
      "text/html": [
       "<div>\n",
       "<style scoped>\n",
       "    .dataframe tbody tr th:only-of-type {\n",
       "        vertical-align: middle;\n",
       "    }\n",
       "\n",
       "    .dataframe tbody tr th {\n",
       "        vertical-align: top;\n",
       "    }\n",
       "\n",
       "    .dataframe thead th {\n",
       "        text-align: right;\n",
       "    }\n",
       "</style>\n",
       "<table border=\"1\" class=\"dataframe\">\n",
       "  <thead>\n",
       "    <tr style=\"text-align: right;\">\n",
       "      <th></th>\n",
       "      <th>Total Cost ex VAT</th>\n",
       "      <th>Travel Class</th>\n",
       "      <th>day</th>\n",
       "      <th>month</th>\n",
       "      <th>Journey Finish Point_le</th>\n",
       "      <th>Journey Start Point_le</th>\n",
       "      <th>Air Carrier_le</th>\n",
       "    </tr>\n",
       "  </thead>\n",
       "  <tbody>\n",
       "    <tr>\n",
       "      <th>0</th>\n",
       "      <td>81.52</td>\n",
       "      <td>0</td>\n",
       "      <td>10</td>\n",
       "      <td>2</td>\n",
       "      <td>109</td>\n",
       "      <td>39</td>\n",
       "      <td>32</td>\n",
       "    </tr>\n",
       "    <tr>\n",
       "      <th>1</th>\n",
       "      <td>217.14</td>\n",
       "      <td>0</td>\n",
       "      <td>29</td>\n",
       "      <td>3</td>\n",
       "      <td>122</td>\n",
       "      <td>58</td>\n",
       "      <td>28</td>\n",
       "    </tr>\n",
       "    <tr>\n",
       "      <th>2</th>\n",
       "      <td>7969.20</td>\n",
       "      <td>2</td>\n",
       "      <td>7</td>\n",
       "      <td>4</td>\n",
       "      <td>166</td>\n",
       "      <td>59</td>\n",
       "      <td>17</td>\n",
       "    </tr>\n",
       "    <tr>\n",
       "      <th>3</th>\n",
       "      <td>272.82</td>\n",
       "      <td>2</td>\n",
       "      <td>7</td>\n",
       "      <td>4</td>\n",
       "      <td>66</td>\n",
       "      <td>58</td>\n",
       "      <td>17</td>\n",
       "    </tr>\n",
       "    <tr>\n",
       "      <th>4</th>\n",
       "      <td>7969.20</td>\n",
       "      <td>2</td>\n",
       "      <td>7</td>\n",
       "      <td>4</td>\n",
       "      <td>166</td>\n",
       "      <td>59</td>\n",
       "      <td>17</td>\n",
       "    </tr>\n",
       "    <tr>\n",
       "      <th>...</th>\n",
       "      <td>...</td>\n",
       "      <td>...</td>\n",
       "      <td>...</td>\n",
       "      <td>...</td>\n",
       "      <td>...</td>\n",
       "      <td>...</td>\n",
       "      <td>...</td>\n",
       "    </tr>\n",
       "    <tr>\n",
       "      <th>2950</th>\n",
       "      <td>71.49</td>\n",
       "      <td>0</td>\n",
       "      <td>18</td>\n",
       "      <td>11</td>\n",
       "      <td>31</td>\n",
       "      <td>9</td>\n",
       "      <td>32</td>\n",
       "    </tr>\n",
       "    <tr>\n",
       "      <th>2951</th>\n",
       "      <td>31.94</td>\n",
       "      <td>0</td>\n",
       "      <td>18</td>\n",
       "      <td>11</td>\n",
       "      <td>19</td>\n",
       "      <td>16</td>\n",
       "      <td>28</td>\n",
       "    </tr>\n",
       "    <tr>\n",
       "      <th>2952</th>\n",
       "      <td>267.40</td>\n",
       "      <td>0</td>\n",
       "      <td>22</td>\n",
       "      <td>11</td>\n",
       "      <td>110</td>\n",
       "      <td>53</td>\n",
       "      <td>35</td>\n",
       "    </tr>\n",
       "    <tr>\n",
       "      <th>2953</th>\n",
       "      <td>215.10</td>\n",
       "      <td>0</td>\n",
       "      <td>29</td>\n",
       "      <td>11</td>\n",
       "      <td>117</td>\n",
       "      <td>53</td>\n",
       "      <td>35</td>\n",
       "    </tr>\n",
       "    <tr>\n",
       "      <th>2954</th>\n",
       "      <td>103.30</td>\n",
       "      <td>0</td>\n",
       "      <td>30</td>\n",
       "      <td>11</td>\n",
       "      <td>79</td>\n",
       "      <td>59</td>\n",
       "      <td>17</td>\n",
       "    </tr>\n",
       "  </tbody>\n",
       "</table>\n",
       "<p>2955 rows × 7 columns</p>\n",
       "</div>"
      ],
      "text/plain": [
       "       Total Cost ex VAT   Travel Class  day  month  Journey Finish Point_le  \\\n",
       "0                   81.52             0   10      2                      109   \n",
       "1                  217.14             0   29      3                      122   \n",
       "2                 7969.20             2    7      4                      166   \n",
       "3                  272.82             2    7      4                       66   \n",
       "4                 7969.20             2    7      4                      166   \n",
       "...                   ...           ...  ...    ...                      ...   \n",
       "2950                71.49             0   18     11                       31   \n",
       "2951                31.94             0   18     11                       19   \n",
       "2952               267.40             0   22     11                      110   \n",
       "2953               215.10             0   29     11                      117   \n",
       "2954               103.30             0   30     11                       79   \n",
       "\n",
       "      Journey Start Point_le  Air Carrier_le  \n",
       "0                         39              32  \n",
       "1                         58              28  \n",
       "2                         59              17  \n",
       "3                         58              17  \n",
       "4                         59              17  \n",
       "...                      ...             ...  \n",
       "2950                       9              32  \n",
       "2951                      16              28  \n",
       "2952                      53              35  \n",
       "2953                      53              35  \n",
       "2954                      59              17  \n",
       "\n",
       "[2955 rows x 7 columns]"
      ]
     },
     "execution_count": 183,
     "metadata": {},
     "output_type": "execute_result"
    }
   ],
   "source": [
    "df2"
   ]
  },
  {
   "cell_type": "code",
   "execution_count": null,
   "metadata": {},
   "outputs": [],
   "source": []
  }
 ],
 "metadata": {
  "interpreter": {
   "hash": "3728d54920b36519bde81b6e868cbf3202350ad88864b9fe60d893204703d63d"
  },
  "kernelspec": {
   "display_name": "Python 3.7.4 64-bit",
   "language": "python",
   "name": "python3"
  },
  "language_info": {
   "codemirror_mode": {
    "name": "ipython",
    "version": 3
   },
   "file_extension": ".py",
   "mimetype": "text/x-python",
   "name": "python",
   "nbconvert_exporter": "python",
   "pygments_lexer": "ipython3",
   "version": "3.7.4"
  },
  "orig_nbformat": 4
 },
 "nbformat": 4,
 "nbformat_minor": 2
}
